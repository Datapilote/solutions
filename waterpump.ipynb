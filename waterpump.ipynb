{
 "metadata": {
  "language_info": {
   "codemirror_mode": {
    "name": "ipython",
    "version": 3
   },
   "file_extension": ".py",
   "mimetype": "text/x-python",
   "name": "python",
   "nbconvert_exporter": "python",
   "pygments_lexer": "ipython3",
   "version": "3.9.1-final"
  },
  "orig_nbformat": 2,
  "kernelspec": {
   "name": "python3",
   "display_name": "Python 3",
   "language": "python"
  }
 },
 "nbformat": 4,
 "nbformat_minor": 2,
 "cells": [
  {
   "source": [
    "# Pump it Up: Data Mining the Water Table\n",
    "\n",
    "### Predict which water pumps are faulty?\n",
    "\n",
    "Using data from Taarifa and the [Tanzanian Ministry of Water](https://www.maji.go.tz/), I will try to predict which pumps are functional, which need some repairs, and which don't work at all. The prediction will be based on a number of variables about what kind of pump is operating, when it was installed, how it is managed and other features (location, population, etc.). A smart understanding of which waterpoints will fail can improve maintenance operations and ensure that clean, potable water is available to communities across Tanzania.\n"
   ],
   "cell_type": "markdown",
   "metadata": {}
  },
  {
   "cell_type": "code",
   "execution_count": 1,
   "metadata": {},
   "outputs": [],
   "source": [
    "# Main librairies\n",
    "import pandas as pd\n",
    "import numpy as np\n",
    "import matplotlib.pyplot as plt\n",
    "import seaborn as sns"
   ]
  },
  {
   "cell_type": "code",
   "execution_count": 2,
   "metadata": {},
   "outputs": [],
   "source": [
    "pd.set_option('display.max_row', 111)\n",
    "pd.set_option('display.max_column', 111)"
   ]
  },
  {
   "source": [
    "## Reading the data"
   ],
   "cell_type": "markdown",
   "metadata": {}
  },
  {
   "cell_type": "code",
   "execution_count": 3,
   "metadata": {},
   "outputs": [
    {
     "output_type": "execute_result",
     "data": {
      "text/plain": [
       "      id  amount_tsh date_recorded        funder  gps_height     installer  \\\n",
       "0  69572      6000.0    2011-03-14         Roman        1390         Roman   \n",
       "1   8776         0.0    2013-03-06       Grumeti        1399       GRUMETI   \n",
       "2  34310        25.0    2013-02-25  Lottery Club         686  World vision   \n",
       "3  67743         0.0    2013-01-28        Unicef         263        UNICEF   \n",
       "4  19728         0.0    2011-07-13   Action In A           0       Artisan   \n",
       "\n",
       "   longitude   latitude              wpt_name  num_private  \\\n",
       "0  34.938093  -9.856322                  none            0   \n",
       "1  34.698766  -2.147466              Zahanati            0   \n",
       "2  37.460664  -3.821329           Kwa Mahundi            0   \n",
       "3  38.486161 -11.155298  Zahanati Ya Nanyumbu            0   \n",
       "4  31.130847  -1.825359               Shuleni            0   \n",
       "\n",
       "                     basin  subvillage   region  region_code  district_code  \\\n",
       "0               Lake Nyasa    Mnyusi B   Iringa           11              5   \n",
       "1            Lake Victoria     Nyamara     Mara           20              2   \n",
       "2                  Pangani     Majengo  Manyara           21              4   \n",
       "3  Ruvuma / Southern Coast  Mahakamani   Mtwara           90             63   \n",
       "4            Lake Victoria  Kyanyamisa   Kagera           18              1   \n",
       "\n",
       "         lga        ward  population public_meeting              recorded_by  \\\n",
       "0     Ludewa    Mundindi         109           True  GeoData Consultants Ltd   \n",
       "1  Serengeti       Natta         280            NaN  GeoData Consultants Ltd   \n",
       "2  Simanjiro     Ngorika         250           True  GeoData Consultants Ltd   \n",
       "3   Nanyumbu    Nanyumbu          58           True  GeoData Consultants Ltd   \n",
       "4    Karagwe  Nyakasimbi           0           True  GeoData Consultants Ltd   \n",
       "\n",
       "  scheme_management                  scheme_name permit  construction_year  \\\n",
       "0               VWC                        Roman  False               1999   \n",
       "1             Other                          NaN   True               2010   \n",
       "2               VWC  Nyumba ya mungu pipe scheme   True               2009   \n",
       "3               VWC                          NaN   True               1986   \n",
       "4               NaN                          NaN   True                  0   \n",
       "\n",
       "  extraction_type extraction_type_group extraction_type_class management  \\\n",
       "0         gravity               gravity               gravity        vwc   \n",
       "1         gravity               gravity               gravity        wug   \n",
       "2         gravity               gravity               gravity        vwc   \n",
       "3     submersible           submersible           submersible        vwc   \n",
       "4         gravity               gravity               gravity      other   \n",
       "\n",
       "  management_group         payment payment_type water_quality quality_group  \\\n",
       "0       user-group    pay annually     annually          soft          good   \n",
       "1       user-group       never pay    never pay          soft          good   \n",
       "2       user-group  pay per bucket   per bucket          soft          good   \n",
       "3       user-group       never pay    never pay          soft          good   \n",
       "4            other       never pay    never pay          soft          good   \n",
       "\n",
       "       quantity quantity_group                source           source_type  \\\n",
       "0        enough         enough                spring                spring   \n",
       "1  insufficient   insufficient  rainwater harvesting  rainwater harvesting   \n",
       "2        enough         enough                   dam                   dam   \n",
       "3           dry            dry           machine dbh              borehole   \n",
       "4      seasonal       seasonal  rainwater harvesting  rainwater harvesting   \n",
       "\n",
       "  source_class              waterpoint_type waterpoint_type_group  \n",
       "0  groundwater           communal standpipe    communal standpipe  \n",
       "1      surface           communal standpipe    communal standpipe  \n",
       "2      surface  communal standpipe multiple    communal standpipe  \n",
       "3  groundwater  communal standpipe multiple    communal standpipe  \n",
       "4      surface           communal standpipe    communal standpipe  "
      ],
      "text/html": "<div>\n<style scoped>\n    .dataframe tbody tr th:only-of-type {\n        vertical-align: middle;\n    }\n\n    .dataframe tbody tr th {\n        vertical-align: top;\n    }\n\n    .dataframe thead th {\n        text-align: right;\n    }\n</style>\n<table border=\"1\" class=\"dataframe\">\n  <thead>\n    <tr style=\"text-align: right;\">\n      <th></th>\n      <th>id</th>\n      <th>amount_tsh</th>\n      <th>date_recorded</th>\n      <th>funder</th>\n      <th>gps_height</th>\n      <th>installer</th>\n      <th>longitude</th>\n      <th>latitude</th>\n      <th>wpt_name</th>\n      <th>num_private</th>\n      <th>basin</th>\n      <th>subvillage</th>\n      <th>region</th>\n      <th>region_code</th>\n      <th>district_code</th>\n      <th>lga</th>\n      <th>ward</th>\n      <th>population</th>\n      <th>public_meeting</th>\n      <th>recorded_by</th>\n      <th>scheme_management</th>\n      <th>scheme_name</th>\n      <th>permit</th>\n      <th>construction_year</th>\n      <th>extraction_type</th>\n      <th>extraction_type_group</th>\n      <th>extraction_type_class</th>\n      <th>management</th>\n      <th>management_group</th>\n      <th>payment</th>\n      <th>payment_type</th>\n      <th>water_quality</th>\n      <th>quality_group</th>\n      <th>quantity</th>\n      <th>quantity_group</th>\n      <th>source</th>\n      <th>source_type</th>\n      <th>source_class</th>\n      <th>waterpoint_type</th>\n      <th>waterpoint_type_group</th>\n    </tr>\n  </thead>\n  <tbody>\n    <tr>\n      <th>0</th>\n      <td>69572</td>\n      <td>6000.0</td>\n      <td>2011-03-14</td>\n      <td>Roman</td>\n      <td>1390</td>\n      <td>Roman</td>\n      <td>34.938093</td>\n      <td>-9.856322</td>\n      <td>none</td>\n      <td>0</td>\n      <td>Lake Nyasa</td>\n      <td>Mnyusi B</td>\n      <td>Iringa</td>\n      <td>11</td>\n      <td>5</td>\n      <td>Ludewa</td>\n      <td>Mundindi</td>\n      <td>109</td>\n      <td>True</td>\n      <td>GeoData Consultants Ltd</td>\n      <td>VWC</td>\n      <td>Roman</td>\n      <td>False</td>\n      <td>1999</td>\n      <td>gravity</td>\n      <td>gravity</td>\n      <td>gravity</td>\n      <td>vwc</td>\n      <td>user-group</td>\n      <td>pay annually</td>\n      <td>annually</td>\n      <td>soft</td>\n      <td>good</td>\n      <td>enough</td>\n      <td>enough</td>\n      <td>spring</td>\n      <td>spring</td>\n      <td>groundwater</td>\n      <td>communal standpipe</td>\n      <td>communal standpipe</td>\n    </tr>\n    <tr>\n      <th>1</th>\n      <td>8776</td>\n      <td>0.0</td>\n      <td>2013-03-06</td>\n      <td>Grumeti</td>\n      <td>1399</td>\n      <td>GRUMETI</td>\n      <td>34.698766</td>\n      <td>-2.147466</td>\n      <td>Zahanati</td>\n      <td>0</td>\n      <td>Lake Victoria</td>\n      <td>Nyamara</td>\n      <td>Mara</td>\n      <td>20</td>\n      <td>2</td>\n      <td>Serengeti</td>\n      <td>Natta</td>\n      <td>280</td>\n      <td>NaN</td>\n      <td>GeoData Consultants Ltd</td>\n      <td>Other</td>\n      <td>NaN</td>\n      <td>True</td>\n      <td>2010</td>\n      <td>gravity</td>\n      <td>gravity</td>\n      <td>gravity</td>\n      <td>wug</td>\n      <td>user-group</td>\n      <td>never pay</td>\n      <td>never pay</td>\n      <td>soft</td>\n      <td>good</td>\n      <td>insufficient</td>\n      <td>insufficient</td>\n      <td>rainwater harvesting</td>\n      <td>rainwater harvesting</td>\n      <td>surface</td>\n      <td>communal standpipe</td>\n      <td>communal standpipe</td>\n    </tr>\n    <tr>\n      <th>2</th>\n      <td>34310</td>\n      <td>25.0</td>\n      <td>2013-02-25</td>\n      <td>Lottery Club</td>\n      <td>686</td>\n      <td>World vision</td>\n      <td>37.460664</td>\n      <td>-3.821329</td>\n      <td>Kwa Mahundi</td>\n      <td>0</td>\n      <td>Pangani</td>\n      <td>Majengo</td>\n      <td>Manyara</td>\n      <td>21</td>\n      <td>4</td>\n      <td>Simanjiro</td>\n      <td>Ngorika</td>\n      <td>250</td>\n      <td>True</td>\n      <td>GeoData Consultants Ltd</td>\n      <td>VWC</td>\n      <td>Nyumba ya mungu pipe scheme</td>\n      <td>True</td>\n      <td>2009</td>\n      <td>gravity</td>\n      <td>gravity</td>\n      <td>gravity</td>\n      <td>vwc</td>\n      <td>user-group</td>\n      <td>pay per bucket</td>\n      <td>per bucket</td>\n      <td>soft</td>\n      <td>good</td>\n      <td>enough</td>\n      <td>enough</td>\n      <td>dam</td>\n      <td>dam</td>\n      <td>surface</td>\n      <td>communal standpipe multiple</td>\n      <td>communal standpipe</td>\n    </tr>\n    <tr>\n      <th>3</th>\n      <td>67743</td>\n      <td>0.0</td>\n      <td>2013-01-28</td>\n      <td>Unicef</td>\n      <td>263</td>\n      <td>UNICEF</td>\n      <td>38.486161</td>\n      <td>-11.155298</td>\n      <td>Zahanati Ya Nanyumbu</td>\n      <td>0</td>\n      <td>Ruvuma / Southern Coast</td>\n      <td>Mahakamani</td>\n      <td>Mtwara</td>\n      <td>90</td>\n      <td>63</td>\n      <td>Nanyumbu</td>\n      <td>Nanyumbu</td>\n      <td>58</td>\n      <td>True</td>\n      <td>GeoData Consultants Ltd</td>\n      <td>VWC</td>\n      <td>NaN</td>\n      <td>True</td>\n      <td>1986</td>\n      <td>submersible</td>\n      <td>submersible</td>\n      <td>submersible</td>\n      <td>vwc</td>\n      <td>user-group</td>\n      <td>never pay</td>\n      <td>never pay</td>\n      <td>soft</td>\n      <td>good</td>\n      <td>dry</td>\n      <td>dry</td>\n      <td>machine dbh</td>\n      <td>borehole</td>\n      <td>groundwater</td>\n      <td>communal standpipe multiple</td>\n      <td>communal standpipe</td>\n    </tr>\n    <tr>\n      <th>4</th>\n      <td>19728</td>\n      <td>0.0</td>\n      <td>2011-07-13</td>\n      <td>Action In A</td>\n      <td>0</td>\n      <td>Artisan</td>\n      <td>31.130847</td>\n      <td>-1.825359</td>\n      <td>Shuleni</td>\n      <td>0</td>\n      <td>Lake Victoria</td>\n      <td>Kyanyamisa</td>\n      <td>Kagera</td>\n      <td>18</td>\n      <td>1</td>\n      <td>Karagwe</td>\n      <td>Nyakasimbi</td>\n      <td>0</td>\n      <td>True</td>\n      <td>GeoData Consultants Ltd</td>\n      <td>NaN</td>\n      <td>NaN</td>\n      <td>True</td>\n      <td>0</td>\n      <td>gravity</td>\n      <td>gravity</td>\n      <td>gravity</td>\n      <td>other</td>\n      <td>other</td>\n      <td>never pay</td>\n      <td>never pay</td>\n      <td>soft</td>\n      <td>good</td>\n      <td>seasonal</td>\n      <td>seasonal</td>\n      <td>rainwater harvesting</td>\n      <td>rainwater harvesting</td>\n      <td>surface</td>\n      <td>communal standpipe</td>\n      <td>communal standpipe</td>\n    </tr>\n  </tbody>\n</table>\n</div>"
     },
     "metadata": {},
     "execution_count": 3
    }
   ],
   "source": [
    "# Reading data\n",
    "data = pd.read_csv(\"training_set.csv\")\n",
    "data_label = pd.read_csv(\"training_set_labels.csv\")\n",
    "holdout = pd.read_csv(\"test_set_values.csv\")\n",
    "data.head()"
   ]
  },
  {
   "cell_type": "code",
   "execution_count": 4,
   "metadata": {},
   "outputs": [
    {
     "output_type": "execute_result",
     "data": {
      "text/plain": [
       "      id    status_group\n",
       "0  69572      functional\n",
       "1   8776      functional\n",
       "2  34310      functional\n",
       "3  67743  non functional\n",
       "4  19728      functional"
      ],
      "text/html": "<div>\n<style scoped>\n    .dataframe tbody tr th:only-of-type {\n        vertical-align: middle;\n    }\n\n    .dataframe tbody tr th {\n        vertical-align: top;\n    }\n\n    .dataframe thead th {\n        text-align: right;\n    }\n</style>\n<table border=\"1\" class=\"dataframe\">\n  <thead>\n    <tr style=\"text-align: right;\">\n      <th></th>\n      <th>id</th>\n      <th>status_group</th>\n    </tr>\n  </thead>\n  <tbody>\n    <tr>\n      <th>0</th>\n      <td>69572</td>\n      <td>functional</td>\n    </tr>\n    <tr>\n      <th>1</th>\n      <td>8776</td>\n      <td>functional</td>\n    </tr>\n    <tr>\n      <th>2</th>\n      <td>34310</td>\n      <td>functional</td>\n    </tr>\n    <tr>\n      <th>3</th>\n      <td>67743</td>\n      <td>non functional</td>\n    </tr>\n    <tr>\n      <th>4</th>\n      <td>19728</td>\n      <td>functional</td>\n    </tr>\n  </tbody>\n</table>\n</div>"
     },
     "metadata": {},
     "execution_count": 4
    }
   ],
   "source": [
    "data_label.head()"
   ]
  },
  {
   "cell_type": "code",
   "execution_count": 5,
   "metadata": {},
   "outputs": [
    {
     "output_type": "execute_result",
     "data": {
      "text/plain": [
       "      id  amount_tsh date_recorded        funder  gps_height     installer  \\\n",
       "0  69572      6000.0    2011-03-14         Roman        1390         Roman   \n",
       "1   8776         0.0    2013-03-06       Grumeti        1399       GRUMETI   \n",
       "2  34310        25.0    2013-02-25  Lottery Club         686  World vision   \n",
       "3  67743         0.0    2013-01-28        Unicef         263        UNICEF   \n",
       "4  19728         0.0    2011-07-13   Action In A           0       Artisan   \n",
       "\n",
       "   longitude   latitude              wpt_name  num_private  \\\n",
       "0  34.938093  -9.856322                  none            0   \n",
       "1  34.698766  -2.147466              Zahanati            0   \n",
       "2  37.460664  -3.821329           Kwa Mahundi            0   \n",
       "3  38.486161 -11.155298  Zahanati Ya Nanyumbu            0   \n",
       "4  31.130847  -1.825359               Shuleni            0   \n",
       "\n",
       "                     basin  subvillage   region  region_code  district_code  \\\n",
       "0               Lake Nyasa    Mnyusi B   Iringa           11              5   \n",
       "1            Lake Victoria     Nyamara     Mara           20              2   \n",
       "2                  Pangani     Majengo  Manyara           21              4   \n",
       "3  Ruvuma / Southern Coast  Mahakamani   Mtwara           90             63   \n",
       "4            Lake Victoria  Kyanyamisa   Kagera           18              1   \n",
       "\n",
       "         lga        ward  population public_meeting              recorded_by  \\\n",
       "0     Ludewa    Mundindi         109           True  GeoData Consultants Ltd   \n",
       "1  Serengeti       Natta         280            NaN  GeoData Consultants Ltd   \n",
       "2  Simanjiro     Ngorika         250           True  GeoData Consultants Ltd   \n",
       "3   Nanyumbu    Nanyumbu          58           True  GeoData Consultants Ltd   \n",
       "4    Karagwe  Nyakasimbi           0           True  GeoData Consultants Ltd   \n",
       "\n",
       "  scheme_management                  scheme_name permit  construction_year  \\\n",
       "0               VWC                        Roman  False               1999   \n",
       "1             Other                          NaN   True               2010   \n",
       "2               VWC  Nyumba ya mungu pipe scheme   True               2009   \n",
       "3               VWC                          NaN   True               1986   \n",
       "4               NaN                          NaN   True                  0   \n",
       "\n",
       "  extraction_type extraction_type_group extraction_type_class management  \\\n",
       "0         gravity               gravity               gravity        vwc   \n",
       "1         gravity               gravity               gravity        wug   \n",
       "2         gravity               gravity               gravity        vwc   \n",
       "3     submersible           submersible           submersible        vwc   \n",
       "4         gravity               gravity               gravity      other   \n",
       "\n",
       "  management_group         payment payment_type water_quality quality_group  \\\n",
       "0       user-group    pay annually     annually          soft          good   \n",
       "1       user-group       never pay    never pay          soft          good   \n",
       "2       user-group  pay per bucket   per bucket          soft          good   \n",
       "3       user-group       never pay    never pay          soft          good   \n",
       "4            other       never pay    never pay          soft          good   \n",
       "\n",
       "       quantity quantity_group                source           source_type  \\\n",
       "0        enough         enough                spring                spring   \n",
       "1  insufficient   insufficient  rainwater harvesting  rainwater harvesting   \n",
       "2        enough         enough                   dam                   dam   \n",
       "3           dry            dry           machine dbh              borehole   \n",
       "4      seasonal       seasonal  rainwater harvesting  rainwater harvesting   \n",
       "\n",
       "  source_class              waterpoint_type waterpoint_type_group  \\\n",
       "0  groundwater           communal standpipe    communal standpipe   \n",
       "1      surface           communal standpipe    communal standpipe   \n",
       "2      surface  communal standpipe multiple    communal standpipe   \n",
       "3  groundwater  communal standpipe multiple    communal standpipe   \n",
       "4      surface           communal standpipe    communal standpipe   \n",
       "\n",
       "     status_group  \n",
       "0      functional  \n",
       "1      functional  \n",
       "2      functional  \n",
       "3  non functional  \n",
       "4      functional  "
      ],
      "text/html": "<div>\n<style scoped>\n    .dataframe tbody tr th:only-of-type {\n        vertical-align: middle;\n    }\n\n    .dataframe tbody tr th {\n        vertical-align: top;\n    }\n\n    .dataframe thead th {\n        text-align: right;\n    }\n</style>\n<table border=\"1\" class=\"dataframe\">\n  <thead>\n    <tr style=\"text-align: right;\">\n      <th></th>\n      <th>id</th>\n      <th>amount_tsh</th>\n      <th>date_recorded</th>\n      <th>funder</th>\n      <th>gps_height</th>\n      <th>installer</th>\n      <th>longitude</th>\n      <th>latitude</th>\n      <th>wpt_name</th>\n      <th>num_private</th>\n      <th>basin</th>\n      <th>subvillage</th>\n      <th>region</th>\n      <th>region_code</th>\n      <th>district_code</th>\n      <th>lga</th>\n      <th>ward</th>\n      <th>population</th>\n      <th>public_meeting</th>\n      <th>recorded_by</th>\n      <th>scheme_management</th>\n      <th>scheme_name</th>\n      <th>permit</th>\n      <th>construction_year</th>\n      <th>extraction_type</th>\n      <th>extraction_type_group</th>\n      <th>extraction_type_class</th>\n      <th>management</th>\n      <th>management_group</th>\n      <th>payment</th>\n      <th>payment_type</th>\n      <th>water_quality</th>\n      <th>quality_group</th>\n      <th>quantity</th>\n      <th>quantity_group</th>\n      <th>source</th>\n      <th>source_type</th>\n      <th>source_class</th>\n      <th>waterpoint_type</th>\n      <th>waterpoint_type_group</th>\n      <th>status_group</th>\n    </tr>\n  </thead>\n  <tbody>\n    <tr>\n      <th>0</th>\n      <td>69572</td>\n      <td>6000.0</td>\n      <td>2011-03-14</td>\n      <td>Roman</td>\n      <td>1390</td>\n      <td>Roman</td>\n      <td>34.938093</td>\n      <td>-9.856322</td>\n      <td>none</td>\n      <td>0</td>\n      <td>Lake Nyasa</td>\n      <td>Mnyusi B</td>\n      <td>Iringa</td>\n      <td>11</td>\n      <td>5</td>\n      <td>Ludewa</td>\n      <td>Mundindi</td>\n      <td>109</td>\n      <td>True</td>\n      <td>GeoData Consultants Ltd</td>\n      <td>VWC</td>\n      <td>Roman</td>\n      <td>False</td>\n      <td>1999</td>\n      <td>gravity</td>\n      <td>gravity</td>\n      <td>gravity</td>\n      <td>vwc</td>\n      <td>user-group</td>\n      <td>pay annually</td>\n      <td>annually</td>\n      <td>soft</td>\n      <td>good</td>\n      <td>enough</td>\n      <td>enough</td>\n      <td>spring</td>\n      <td>spring</td>\n      <td>groundwater</td>\n      <td>communal standpipe</td>\n      <td>communal standpipe</td>\n      <td>functional</td>\n    </tr>\n    <tr>\n      <th>1</th>\n      <td>8776</td>\n      <td>0.0</td>\n      <td>2013-03-06</td>\n      <td>Grumeti</td>\n      <td>1399</td>\n      <td>GRUMETI</td>\n      <td>34.698766</td>\n      <td>-2.147466</td>\n      <td>Zahanati</td>\n      <td>0</td>\n      <td>Lake Victoria</td>\n      <td>Nyamara</td>\n      <td>Mara</td>\n      <td>20</td>\n      <td>2</td>\n      <td>Serengeti</td>\n      <td>Natta</td>\n      <td>280</td>\n      <td>NaN</td>\n      <td>GeoData Consultants Ltd</td>\n      <td>Other</td>\n      <td>NaN</td>\n      <td>True</td>\n      <td>2010</td>\n      <td>gravity</td>\n      <td>gravity</td>\n      <td>gravity</td>\n      <td>wug</td>\n      <td>user-group</td>\n      <td>never pay</td>\n      <td>never pay</td>\n      <td>soft</td>\n      <td>good</td>\n      <td>insufficient</td>\n      <td>insufficient</td>\n      <td>rainwater harvesting</td>\n      <td>rainwater harvesting</td>\n      <td>surface</td>\n      <td>communal standpipe</td>\n      <td>communal standpipe</td>\n      <td>functional</td>\n    </tr>\n    <tr>\n      <th>2</th>\n      <td>34310</td>\n      <td>25.0</td>\n      <td>2013-02-25</td>\n      <td>Lottery Club</td>\n      <td>686</td>\n      <td>World vision</td>\n      <td>37.460664</td>\n      <td>-3.821329</td>\n      <td>Kwa Mahundi</td>\n      <td>0</td>\n      <td>Pangani</td>\n      <td>Majengo</td>\n      <td>Manyara</td>\n      <td>21</td>\n      <td>4</td>\n      <td>Simanjiro</td>\n      <td>Ngorika</td>\n      <td>250</td>\n      <td>True</td>\n      <td>GeoData Consultants Ltd</td>\n      <td>VWC</td>\n      <td>Nyumba ya mungu pipe scheme</td>\n      <td>True</td>\n      <td>2009</td>\n      <td>gravity</td>\n      <td>gravity</td>\n      <td>gravity</td>\n      <td>vwc</td>\n      <td>user-group</td>\n      <td>pay per bucket</td>\n      <td>per bucket</td>\n      <td>soft</td>\n      <td>good</td>\n      <td>enough</td>\n      <td>enough</td>\n      <td>dam</td>\n      <td>dam</td>\n      <td>surface</td>\n      <td>communal standpipe multiple</td>\n      <td>communal standpipe</td>\n      <td>functional</td>\n    </tr>\n    <tr>\n      <th>3</th>\n      <td>67743</td>\n      <td>0.0</td>\n      <td>2013-01-28</td>\n      <td>Unicef</td>\n      <td>263</td>\n      <td>UNICEF</td>\n      <td>38.486161</td>\n      <td>-11.155298</td>\n      <td>Zahanati Ya Nanyumbu</td>\n      <td>0</td>\n      <td>Ruvuma / Southern Coast</td>\n      <td>Mahakamani</td>\n      <td>Mtwara</td>\n      <td>90</td>\n      <td>63</td>\n      <td>Nanyumbu</td>\n      <td>Nanyumbu</td>\n      <td>58</td>\n      <td>True</td>\n      <td>GeoData Consultants Ltd</td>\n      <td>VWC</td>\n      <td>NaN</td>\n      <td>True</td>\n      <td>1986</td>\n      <td>submersible</td>\n      <td>submersible</td>\n      <td>submersible</td>\n      <td>vwc</td>\n      <td>user-group</td>\n      <td>never pay</td>\n      <td>never pay</td>\n      <td>soft</td>\n      <td>good</td>\n      <td>dry</td>\n      <td>dry</td>\n      <td>machine dbh</td>\n      <td>borehole</td>\n      <td>groundwater</td>\n      <td>communal standpipe multiple</td>\n      <td>communal standpipe</td>\n      <td>non functional</td>\n    </tr>\n    <tr>\n      <th>4</th>\n      <td>19728</td>\n      <td>0.0</td>\n      <td>2011-07-13</td>\n      <td>Action In A</td>\n      <td>0</td>\n      <td>Artisan</td>\n      <td>31.130847</td>\n      <td>-1.825359</td>\n      <td>Shuleni</td>\n      <td>0</td>\n      <td>Lake Victoria</td>\n      <td>Kyanyamisa</td>\n      <td>Kagera</td>\n      <td>18</td>\n      <td>1</td>\n      <td>Karagwe</td>\n      <td>Nyakasimbi</td>\n      <td>0</td>\n      <td>True</td>\n      <td>GeoData Consultants Ltd</td>\n      <td>NaN</td>\n      <td>NaN</td>\n      <td>True</td>\n      <td>0</td>\n      <td>gravity</td>\n      <td>gravity</td>\n      <td>gravity</td>\n      <td>other</td>\n      <td>other</td>\n      <td>never pay</td>\n      <td>never pay</td>\n      <td>soft</td>\n      <td>good</td>\n      <td>seasonal</td>\n      <td>seasonal</td>\n      <td>rainwater harvesting</td>\n      <td>rainwater harvesting</td>\n      <td>surface</td>\n      <td>communal standpipe</td>\n      <td>communal standpipe</td>\n      <td>functional</td>\n    </tr>\n  </tbody>\n</table>\n</div>"
     },
     "metadata": {},
     "execution_count": 5
    }
   ],
   "source": [
    "#merge training set and training set labels\n",
    "data = data.merge(data_label, on=\"id\")\n",
    "data.head()"
   ]
  },
  {
   "source": [
    "## 1. Data format analysis\n",
    "### a. First features filtering\n",
    "\n",
    "Base on the the columns descriptions located [here](https://www.drivendata.org/competitions/7/pump-it-up-data-mining-the-water-table/page/25/),  and after eliminating redondant features and ones that are not related to the target, I decide to keep following columns\n"
   ],
   "cell_type": "markdown",
   "metadata": {}
  },
  {
   "cell_type": "code",
   "execution_count": 6,
   "metadata": {},
   "outputs": [
    {
     "output_type": "execute_result",
     "data": {
      "text/plain": [
       "   amount_tsh  gps_height  longitude   latitude        funder        lga  \\\n",
       "0      6000.0        1390  34.938093  -9.856322         Roman     Ludewa   \n",
       "1         0.0        1399  34.698766  -2.147466       Grumeti  Serengeti   \n",
       "2        25.0         686  37.460664  -3.821329  Lottery Club  Simanjiro   \n",
       "3         0.0         263  38.486161 -11.155298        Unicef   Nanyumbu   \n",
       "4         0.0           0  31.130847  -1.825359   Action In A    Karagwe   \n",
       "\n",
       "         ward date_recorded                    basin  district_code  \\\n",
       "0    Mundindi    2011-03-14               Lake Nyasa              5   \n",
       "1       Natta    2013-03-06            Lake Victoria              2   \n",
       "2     Ngorika    2013-02-25                  Pangani              4   \n",
       "3    Nanyumbu    2013-01-28  Ruvuma / Southern Coast             63   \n",
       "4  Nyakasimbi    2011-07-13            Lake Victoria              1   \n",
       "\n",
       "   population permit  construction_year extraction_type_class management  \\\n",
       "0         109  False               1999               gravity        vwc   \n",
       "1         280   True               2010               gravity        wug   \n",
       "2         250   True               2009               gravity        vwc   \n",
       "3          58   True               1986           submersible        vwc   \n",
       "4           0   True                  0               gravity      other   \n",
       "\n",
       "  payment_type water_quality      quantity                source  \\\n",
       "0     annually          soft        enough                spring   \n",
       "1    never pay          soft  insufficient  rainwater harvesting   \n",
       "2   per bucket          soft        enough                   dam   \n",
       "3    never pay          soft           dry           machine dbh   \n",
       "4    never pay          soft      seasonal  rainwater harvesting   \n",
       "\n",
       "               waterpoint_type    status_group  \n",
       "0           communal standpipe      functional  \n",
       "1           communal standpipe      functional  \n",
       "2  communal standpipe multiple      functional  \n",
       "3  communal standpipe multiple  non functional  \n",
       "4           communal standpipe      functional  "
      ],
      "text/html": "<div>\n<style scoped>\n    .dataframe tbody tr th:only-of-type {\n        vertical-align: middle;\n    }\n\n    .dataframe tbody tr th {\n        vertical-align: top;\n    }\n\n    .dataframe thead th {\n        text-align: right;\n    }\n</style>\n<table border=\"1\" class=\"dataframe\">\n  <thead>\n    <tr style=\"text-align: right;\">\n      <th></th>\n      <th>amount_tsh</th>\n      <th>gps_height</th>\n      <th>longitude</th>\n      <th>latitude</th>\n      <th>funder</th>\n      <th>lga</th>\n      <th>ward</th>\n      <th>date_recorded</th>\n      <th>basin</th>\n      <th>district_code</th>\n      <th>population</th>\n      <th>permit</th>\n      <th>construction_year</th>\n      <th>extraction_type_class</th>\n      <th>management</th>\n      <th>payment_type</th>\n      <th>water_quality</th>\n      <th>quantity</th>\n      <th>source</th>\n      <th>waterpoint_type</th>\n      <th>status_group</th>\n    </tr>\n  </thead>\n  <tbody>\n    <tr>\n      <th>0</th>\n      <td>6000.0</td>\n      <td>1390</td>\n      <td>34.938093</td>\n      <td>-9.856322</td>\n      <td>Roman</td>\n      <td>Ludewa</td>\n      <td>Mundindi</td>\n      <td>2011-03-14</td>\n      <td>Lake Nyasa</td>\n      <td>5</td>\n      <td>109</td>\n      <td>False</td>\n      <td>1999</td>\n      <td>gravity</td>\n      <td>vwc</td>\n      <td>annually</td>\n      <td>soft</td>\n      <td>enough</td>\n      <td>spring</td>\n      <td>communal standpipe</td>\n      <td>functional</td>\n    </tr>\n    <tr>\n      <th>1</th>\n      <td>0.0</td>\n      <td>1399</td>\n      <td>34.698766</td>\n      <td>-2.147466</td>\n      <td>Grumeti</td>\n      <td>Serengeti</td>\n      <td>Natta</td>\n      <td>2013-03-06</td>\n      <td>Lake Victoria</td>\n      <td>2</td>\n      <td>280</td>\n      <td>True</td>\n      <td>2010</td>\n      <td>gravity</td>\n      <td>wug</td>\n      <td>never pay</td>\n      <td>soft</td>\n      <td>insufficient</td>\n      <td>rainwater harvesting</td>\n      <td>communal standpipe</td>\n      <td>functional</td>\n    </tr>\n    <tr>\n      <th>2</th>\n      <td>25.0</td>\n      <td>686</td>\n      <td>37.460664</td>\n      <td>-3.821329</td>\n      <td>Lottery Club</td>\n      <td>Simanjiro</td>\n      <td>Ngorika</td>\n      <td>2013-02-25</td>\n      <td>Pangani</td>\n      <td>4</td>\n      <td>250</td>\n      <td>True</td>\n      <td>2009</td>\n      <td>gravity</td>\n      <td>vwc</td>\n      <td>per bucket</td>\n      <td>soft</td>\n      <td>enough</td>\n      <td>dam</td>\n      <td>communal standpipe multiple</td>\n      <td>functional</td>\n    </tr>\n    <tr>\n      <th>3</th>\n      <td>0.0</td>\n      <td>263</td>\n      <td>38.486161</td>\n      <td>-11.155298</td>\n      <td>Unicef</td>\n      <td>Nanyumbu</td>\n      <td>Nanyumbu</td>\n      <td>2013-01-28</td>\n      <td>Ruvuma / Southern Coast</td>\n      <td>63</td>\n      <td>58</td>\n      <td>True</td>\n      <td>1986</td>\n      <td>submersible</td>\n      <td>vwc</td>\n      <td>never pay</td>\n      <td>soft</td>\n      <td>dry</td>\n      <td>machine dbh</td>\n      <td>communal standpipe multiple</td>\n      <td>non functional</td>\n    </tr>\n    <tr>\n      <th>4</th>\n      <td>0.0</td>\n      <td>0</td>\n      <td>31.130847</td>\n      <td>-1.825359</td>\n      <td>Action In A</td>\n      <td>Karagwe</td>\n      <td>Nyakasimbi</td>\n      <td>2011-07-13</td>\n      <td>Lake Victoria</td>\n      <td>1</td>\n      <td>0</td>\n      <td>True</td>\n      <td>0</td>\n      <td>gravity</td>\n      <td>other</td>\n      <td>never pay</td>\n      <td>soft</td>\n      <td>seasonal</td>\n      <td>rainwater harvesting</td>\n      <td>communal standpipe</td>\n      <td>functional</td>\n    </tr>\n  </tbody>\n</table>\n</div>"
     },
     "metadata": {},
     "execution_count": 6
    }
   ],
   "source": [
    "features = [\"amount_tsh\",\"gps_height\",\"longitude\", \"latitude\", \"funder\", \"lga\", \"ward\",\"date_recorded\", \"basin\", \"district_code\", \"population\",\"permit\", \"construction_year\",\"extraction_type_class\", \"management\", \"payment_type\", \"water_quality\", \"quantity\", \"source\", \"waterpoint_type\",\"status_group\"]\n",
    "data = data[features]\n",
    "\n",
    "# Data frame for exploration\n",
    "df_exp = data.copy() \n",
    "df_exp.head()"
   ]
  },
  {
   "source": [
    "### b. Target values"
   ],
   "cell_type": "markdown",
   "metadata": {}
  },
  {
   "cell_type": "code",
   "execution_count": 7,
   "metadata": {},
   "outputs": [
    {
     "output_type": "execute_result",
     "data": {
      "text/plain": [
       "functional                 0.543081\n",
       "non functional             0.384242\n",
       "functional needs repair    0.072677\n",
       "Name: status_group, dtype: float64"
      ]
     },
     "metadata": {},
     "execution_count": 7
    }
   ],
   "source": [
    "df_exp[\"status_group\"].value_counts(normalize=True)"
   ]
  },
  {
   "source": [
    "1. The target values need to be converted into numerical values\n",
    "2. Target values are not well balance, this will affect the choise of accuracy metric"
   ],
   "cell_type": "markdown",
   "metadata": {}
  },
  {
   "source": [
    "### c. The shape of the data set"
   ],
   "cell_type": "markdown",
   "metadata": {}
  },
  {
   "cell_type": "code",
   "execution_count": 8,
   "metadata": {},
   "outputs": [
    {
     "output_type": "execute_result",
     "data": {
      "text/plain": [
       "(59400, 21)"
      ]
     },
     "metadata": {},
     "execution_count": 8
    }
   ],
   "source": [
    "df_exp.shape"
   ]
  },
  {
   "source": [
    "The data set has :\n",
    "* 59400 rows\n",
    "* 21 columns"
   ],
   "cell_type": "markdown",
   "metadata": {}
  },
  {
   "source": [
    "### d. Data types"
   ],
   "cell_type": "markdown",
   "metadata": {}
  },
  {
   "cell_type": "code",
   "execution_count": 9,
   "metadata": {},
   "outputs": [
    {
     "output_type": "execute_result",
     "data": {
      "text/plain": [
       "object     14\n",
       "int64       4\n",
       "float64     3\n",
       "dtype: int64"
      ]
     },
     "metadata": {},
     "execution_count": 9
    }
   ],
   "source": [
    "df_exp.dtypes.value_counts()"
   ]
  },
  {
   "source": [
    "We have :\n",
    "* 7 numerical values\n",
    "* 14 text (or other) values"
   ],
   "cell_type": "markdown",
   "metadata": {}
  },
  {
   "source": [
    "### e. Missing values"
   ],
   "cell_type": "markdown",
   "metadata": {}
  },
  {
   "cell_type": "code",
   "execution_count": 10,
   "metadata": {},
   "outputs": [
    {
     "output_type": "execute_result",
     "data": {
      "text/plain": [
       "amount_tsh                  0\n",
       "gps_height                  0\n",
       "longitude                   0\n",
       "latitude                    0\n",
       "funder                   3635\n",
       "lga                         0\n",
       "ward                        0\n",
       "date_recorded               0\n",
       "basin                       0\n",
       "district_code               0\n",
       "population                  0\n",
       "permit                   3056\n",
       "construction_year           0\n",
       "extraction_type_class       0\n",
       "management                  0\n",
       "payment_type                0\n",
       "water_quality               0\n",
       "quantity                    0\n",
       "source                      0\n",
       "waterpoint_type             0\n",
       "status_group                0\n",
       "dtype: int64"
      ]
     },
     "metadata": {},
     "execution_count": 10
    }
   ],
   "source": [
    "df_exp.isna().sum()"
   ]
  },
  {
   "source": [
    "It seems that only \"permit\" and \"funder\" columns has missing value. That needs more investigation maybe some numerical values have missing value represented by 0 ou negative numbers"
   ],
   "cell_type": "markdown",
   "metadata": {}
  },
  {
   "source": [
    "## 2. Data content analysis\n",
    "### a. Target analysis"
   ],
   "cell_type": "markdown",
   "metadata": {}
  },
  {
   "source": [
    "See analysis above"
   ],
   "cell_type": "markdown",
   "metadata": {}
  },
  {
   "source": [
    "### b. Numerical values"
   ],
   "cell_type": "markdown",
   "metadata": {}
  },
  {
   "cell_type": "code",
   "execution_count": 11,
   "metadata": {},
   "outputs": [
    {
     "output_type": "execute_result",
     "data": {
      "text/plain": [
       "Index(['amount_tsh', 'gps_height', 'longitude', 'latitude', 'district_code',\n",
       "       'population', 'construction_year'],\n",
       "      dtype='object')"
      ]
     },
     "metadata": {},
     "execution_count": 11
    }
   ],
   "source": [
    "df_exp.select_dtypes([\"int\",\"float\"]).columns"
   ]
  },
  {
   "cell_type": "code",
   "execution_count": 12,
   "metadata": {},
   "outputs": [
    {
     "output_type": "execute_result",
     "data": {
      "text/plain": [
       "0.0       0.700993\n",
       "500.0     0.052222\n",
       "50.0      0.041616\n",
       "1000.0    0.025051\n",
       "20.0      0.024630\n",
       "Name: amount_tsh, dtype: float64"
      ]
     },
     "metadata": {},
     "execution_count": 12
    }
   ],
   "source": [
    "# amount_tsh\n",
    "df_exp[\"amount_tsh\"].value_counts(normalize=True).sort_values(ascending=False).head()"
   ]
  },
  {
   "source": [
    "amount_tsh: Stand for Total Static Head (difference in elevation of fluid’s source and destination surfaces). It cannot be 0. So It seems that 0 represente missing value and column has 70% of missing value. Let's skeep this columns"
   ],
   "cell_type": "markdown",
   "metadata": {}
  },
  {
   "cell_type": "code",
   "execution_count": 13,
   "metadata": {},
   "outputs": [
    {
     "output_type": "execute_result",
     "data": {
      "text/plain": [
       "['gps_height',\n",
       " 'longitude',\n",
       " 'latitude',\n",
       " 'funder',\n",
       " 'lga',\n",
       " 'ward',\n",
       " 'date_recorded',\n",
       " 'basin',\n",
       " 'district_code',\n",
       " 'population',\n",
       " 'permit',\n",
       " 'construction_year',\n",
       " 'extraction_type_class',\n",
       " 'management',\n",
       " 'payment_type',\n",
       " 'water_quality',\n",
       " 'quantity',\n",
       " 'source',\n",
       " 'waterpoint_type',\n",
       " 'status_group']"
      ]
     },
     "metadata": {},
     "execution_count": 13
    }
   ],
   "source": [
    "features.remove('amount_tsh')\n",
    "features"
   ]
  },
  {
   "source": [
    "df_exp[\"population\"].value_counts(normalize=True).sort_values(ascending=False).head()"
   ],
   "cell_type": "code",
   "metadata": {},
   "execution_count": 14,
   "outputs": [
    {
     "output_type": "execute_result",
     "data": {
      "text/plain": [
       "0      0.359949\n",
       "1      0.118266\n",
       "200    0.032660\n",
       "150    0.031852\n",
       "250    0.028300\n",
       "Name: population, dtype: float64"
      ]
     },
     "metadata": {},
     "execution_count": 14
    }
   ]
  },
  {
   "cell_type": "code",
   "execution_count": 15,
   "metadata": {},
   "outputs": [
    {
     "output_type": "execute_result",
     "data": {
      "text/plain": [
       "<AxesSubplot:xlabel='population', ylabel='Density'>"
      ]
     },
     "metadata": {},
     "execution_count": 15
    },
    {
     "output_type": "display_data",
     "data": {
      "text/plain": "<Figure size 432x288 with 1 Axes>",
      "image/svg+xml": "<?xml version=\"1.0\" encoding=\"utf-8\" standalone=\"no\"?>\n<!DOCTYPE svg PUBLIC \"-//W3C//DTD SVG 1.1//EN\"\n  \"http://www.w3.org/Graphics/SVG/1.1/DTD/svg11.dtd\">\n<!-- Created with matplotlib (https://matplotlib.org/) -->\n<svg height=\"262.19625pt\" version=\"1.1\" viewBox=\"0 0 404.86875 262.19625\" width=\"404.86875pt\" xmlns=\"http://www.w3.org/2000/svg\" xmlns:xlink=\"http://www.w3.org/1999/xlink\">\n <metadata>\n  <rdf:RDF xmlns:cc=\"http://creativecommons.org/ns#\" xmlns:dc=\"http://purl.org/dc/elements/1.1/\" xmlns:rdf=\"http://www.w3.org/1999/02/22-rdf-syntax-ns#\">\n   <cc:Work>\n    <dc:type rdf:resource=\"http://purl.org/dc/dcmitype/StillImage\"/>\n    <dc:date>2021-04-09T23:25:45.642043</dc:date>\n    <dc:format>image/svg+xml</dc:format>\n    <dc:creator>\n     <cc:Agent>\n      <dc:title>Matplotlib v3.3.4, https://matplotlib.org/</dc:title>\n     </cc:Agent>\n    </dc:creator>\n   </cc:Work>\n  </rdf:RDF>\n </metadata>\n <defs>\n  <style type=\"text/css\">*{stroke-linecap:butt;stroke-linejoin:round;}</style>\n </defs>\n <g id=\"figure_1\">\n  <g id=\"patch_1\">\n   <path d=\"M 0 262.19625 \nL 404.86875 262.19625 \nL 404.86875 0 \nL 0 0 \nz\n\" style=\"fill:none;\"/>\n  </g>\n  <g id=\"axes_1\">\n   <g id=\"patch_2\">\n    <path d=\"M 62.86875 224.64 \nL 397.66875 224.64 \nL 397.66875 7.2 \nL 62.86875 7.2 \nz\n\" style=\"fill:#ffffff;\"/>\n   </g>\n   <g id=\"PolyCollection_1\">\n    <defs>\n     <path d=\"M 78.086932 -39.134174 \nL 78.086932 -37.55625 \nL 79.616397 -37.55625 \nL 81.145863 -37.55625 \nL 82.675328 -37.55625 \nL 84.204794 -37.55625 \nL 85.734259 -37.55625 \nL 87.263725 -37.55625 \nL 88.79319 -37.55625 \nL 90.322656 -37.55625 \nL 91.852121 -37.55625 \nL 93.381587 -37.55625 \nL 94.911052 -37.55625 \nL 96.440518 -37.55625 \nL 97.969983 -37.55625 \nL 99.499449 -37.55625 \nL 101.028914 -37.55625 \nL 102.55838 -37.55625 \nL 104.087845 -37.55625 \nL 105.617311 -37.55625 \nL 107.146776 -37.55625 \nL 108.676242 -37.55625 \nL 110.205708 -37.55625 \nL 111.735173 -37.55625 \nL 113.264639 -37.55625 \nL 114.794104 -37.55625 \nL 116.32357 -37.55625 \nL 117.853035 -37.55625 \nL 119.382501 -37.55625 \nL 120.911966 -37.55625 \nL 122.441432 -37.55625 \nL 123.970897 -37.55625 \nL 125.500363 -37.55625 \nL 127.029828 -37.55625 \nL 128.559294 -37.55625 \nL 130.088759 -37.55625 \nL 131.618225 -37.55625 \nL 133.14769 -37.55625 \nL 134.677156 -37.55625 \nL 136.206621 -37.55625 \nL 137.736087 -37.55625 \nL 139.265552 -37.55625 \nL 140.795018 -37.55625 \nL 142.324483 -37.55625 \nL 143.853949 -37.55625 \nL 145.383414 -37.55625 \nL 146.91288 -37.55625 \nL 148.442345 -37.55625 \nL 149.971811 -37.55625 \nL 151.501276 -37.55625 \nL 153.030742 -37.55625 \nL 154.560207 -37.55625 \nL 156.089673 -37.55625 \nL 157.619138 -37.55625 \nL 159.148604 -37.55625 \nL 160.678069 -37.55625 \nL 162.207535 -37.55625 \nL 163.737 -37.55625 \nL 165.266466 -37.55625 \nL 166.795931 -37.55625 \nL 168.325397 -37.55625 \nL 169.854862 -37.55625 \nL 171.384328 -37.55625 \nL 172.913793 -37.55625 \nL 174.443259 -37.55625 \nL 175.972724 -37.55625 \nL 177.50219 -37.55625 \nL 179.031655 -37.55625 \nL 180.561121 -37.55625 \nL 182.090586 -37.55625 \nL 183.620052 -37.55625 \nL 185.149517 -37.55625 \nL 186.678983 -37.55625 \nL 188.208448 -37.55625 \nL 189.737914 -37.55625 \nL 191.26738 -37.55625 \nL 192.796845 -37.55625 \nL 194.326311 -37.55625 \nL 195.855776 -37.55625 \nL 197.385242 -37.55625 \nL 198.914707 -37.55625 \nL 200.444173 -37.55625 \nL 201.973638 -37.55625 \nL 203.503104 -37.55625 \nL 205.032569 -37.55625 \nL 206.562035 -37.55625 \nL 208.0915 -37.55625 \nL 209.620966 -37.55625 \nL 211.150431 -37.55625 \nL 212.679897 -37.55625 \nL 214.209362 -37.55625 \nL 215.738828 -37.55625 \nL 217.268293 -37.55625 \nL 218.797759 -37.55625 \nL 220.327224 -37.55625 \nL 221.85669 -37.55625 \nL 223.386155 -37.55625 \nL 224.915621 -37.55625 \nL 226.445086 -37.55625 \nL 227.974552 -37.55625 \nL 229.504017 -37.55625 \nL 231.033483 -37.55625 \nL 232.562948 -37.55625 \nL 234.092414 -37.55625 \nL 235.621879 -37.55625 \nL 237.151345 -37.55625 \nL 238.68081 -37.55625 \nL 240.210276 -37.55625 \nL 241.739741 -37.55625 \nL 243.269207 -37.55625 \nL 244.798672 -37.55625 \nL 246.328138 -37.55625 \nL 247.857603 -37.55625 \nL 249.387069 -37.55625 \nL 250.916534 -37.55625 \nL 252.446 -37.55625 \nL 253.975465 -37.55625 \nL 255.504931 -37.55625 \nL 257.034396 -37.55625 \nL 258.563862 -37.55625 \nL 260.093327 -37.55625 \nL 261.622793 -37.55625 \nL 263.152258 -37.55625 \nL 264.681724 -37.55625 \nL 266.211189 -37.55625 \nL 267.740655 -37.55625 \nL 269.27012 -37.55625 \nL 270.799586 -37.55625 \nL 272.329052 -37.55625 \nL 273.858517 -37.55625 \nL 275.387983 -37.55625 \nL 276.917448 -37.55625 \nL 278.446914 -37.55625 \nL 279.976379 -37.55625 \nL 281.505845 -37.55625 \nL 283.03531 -37.55625 \nL 284.564776 -37.55625 \nL 286.094241 -37.55625 \nL 287.623707 -37.55625 \nL 289.153172 -37.55625 \nL 290.682638 -37.55625 \nL 292.212103 -37.55625 \nL 293.741569 -37.55625 \nL 295.271034 -37.55625 \nL 296.8005 -37.55625 \nL 298.329965 -37.55625 \nL 299.859431 -37.55625 \nL 301.388896 -37.55625 \nL 302.918362 -37.55625 \nL 304.447827 -37.55625 \nL 305.977293 -37.55625 \nL 307.506758 -37.55625 \nL 309.036224 -37.55625 \nL 310.565689 -37.55625 \nL 312.095155 -37.55625 \nL 313.62462 -37.55625 \nL 315.154086 -37.55625 \nL 316.683551 -37.55625 \nL 318.213017 -37.55625 \nL 319.742482 -37.55625 \nL 321.271948 -37.55625 \nL 322.801413 -37.55625 \nL 324.330879 -37.55625 \nL 325.860344 -37.55625 \nL 327.38981 -37.55625 \nL 328.919275 -37.55625 \nL 330.448741 -37.55625 \nL 331.978206 -37.55625 \nL 333.507672 -37.55625 \nL 335.037137 -37.55625 \nL 336.566603 -37.55625 \nL 338.096068 -37.55625 \nL 339.625534 -37.55625 \nL 341.154999 -37.55625 \nL 342.684465 -37.55625 \nL 344.21393 -37.55625 \nL 345.743396 -37.55625 \nL 347.272861 -37.55625 \nL 348.802327 -37.55625 \nL 350.331792 -37.55625 \nL 351.861258 -37.55625 \nL 353.390724 -37.55625 \nL 354.920189 -37.55625 \nL 356.449655 -37.55625 \nL 357.97912 -37.55625 \nL 359.508586 -37.55625 \nL 361.038051 -37.55625 \nL 362.567517 -37.55625 \nL 364.096982 -37.55625 \nL 365.626448 -37.55625 \nL 367.155913 -37.55625 \nL 368.685379 -37.55625 \nL 370.214844 -37.55625 \nL 371.74431 -37.55625 \nL 373.273775 -37.55625 \nL 374.803241 -37.55625 \nL 376.332706 -37.55625 \nL 377.862172 -37.55625 \nL 379.391637 -37.55625 \nL 380.921103 -37.55625 \nL 382.450568 -37.55625 \nL 382.450568 -37.556654 \nL 382.450568 -37.556654 \nL 380.921103 -37.557349 \nL 379.391637 -37.558955 \nL 377.862172 -37.562288 \nL 376.332706 -37.568495 \nL 374.803241 -37.578874 \nL 373.273775 -37.594494 \nL 371.74431 -37.615761 \nL 370.214844 -37.642245 \nL 368.685379 -37.672992 \nL 367.155913 -37.707185 \nL 365.626448 -37.744618 \nL 364.096982 -37.785427 \nL 362.567517 -37.829187 \nL 361.038051 -37.874196 \nL 359.508586 -37.917812 \nL 357.97912 -37.957824 \nL 356.449655 -37.993899 \nL 354.920189 -38.02802 \nL 353.390724 -38.063484 \nL 351.861258 -38.102794 \nL 350.331792 -38.145136 \nL 348.802327 -38.184619 \nL 347.272861 -38.210894 \nL 345.743396 -38.213116 \nL 344.21393 -38.185874 \nL 342.684465 -38.133427 \nL 341.154999 -38.068857 \nL 339.625534 -38.008187 \nL 338.096068 -37.963195 \nL 336.566603 -37.937294 \nL 335.037137 -37.926268 \nL 333.507672 -37.922431 \nL 331.978206 -37.919405 \nL 330.448741 -37.915297 \nL 328.919275 -37.913382 \nL 327.38981 -37.920503 \nL 325.860344 -37.944086 \nL 324.330879 -37.988941 \nL 322.801413 -38.05481 \nL 321.271948 -38.1355 \nL 319.742482 -38.220549 \nL 318.213017 -38.300243 \nL 316.683551 -38.373534 \nL 315.154086 -38.456168 \nL 313.62462 -38.584377 \nL 312.095155 -38.809193 \nL 310.565689 -39.178295 \nL 309.036224 -39.707441 \nL 307.506758 -40.352119 \nL 305.977293 -40.998231 \nL 304.447827 -41.488427 \nL 302.918362 -41.681964 \nL 301.388896 -41.519677 \nL 299.859431 -41.054527 \nL 298.329965 -40.426863 \nL 296.8005 -39.799824 \nL 295.271034 -39.294309 \nL 293.741569 -38.956786 \nL 292.212103 -38.766724 \nL 290.682638 -38.667834 \nL 289.153172 -38.601927 \nL 287.623707 -38.53177 \nL 286.094241 -38.448974 \nL 284.564776 -38.369012 \nL 283.03531 -38.318369 \nL 281.505845 -38.319797 \nL 279.976379 -38.381238 \nL 278.446914 -38.492436 \nL 276.917448 -38.630778 \nL 275.387983 -38.774334 \nL 273.858517 -38.916133 \nL 272.329052 -39.071977 \nL 270.799586 -39.276706 \nL 269.27012 -39.569189 \nL 267.740655 -39.97059 \nL 266.211189 -40.462671 \nL 264.681724 -40.975196 \nL 263.152258 -41.393622 \nL 261.622793 -41.593429 \nL 260.093327 -41.491746 \nL 258.563862 -41.089669 \nL 257.034396 -40.477699 \nL 255.504931 -39.798437 \nL 253.975465 -39.188733 \nL 252.446 -38.73449 \nL 250.916534 -38.458172 \nL 249.387069 -38.336366 \nL 247.857603 -38.330685 \nL 246.328138 -38.415572 \nL 244.798672 -38.594252 \nL 243.269207 -38.9007 \nL 241.739741 -39.387775 \nL 240.210276 -40.101758 \nL 238.68081 -41.046453 \nL 237.151345 -42.149031 \nL 235.621879 -43.250142 \nL 234.092414 -44.138553 \nL 232.562948 -44.626655 \nL 231.033483 -44.630362 \nL 229.504017 -44.205251 \nL 227.974552 -43.516967 \nL 226.445086 -42.767897 \nL 224.915621 -42.125584 \nL 223.386155 -41.685138 \nL 221.85669 -41.468245 \nL 220.327224 -41.444036 \nL 218.797759 -41.558021 \nL 217.268293 -41.761135 \nL 215.738828 -42.031856 \nL 214.209362 -42.383816 \nL 212.679897 -42.854545 \nL 211.150431 -43.477447 \nL 209.620966 -44.246663 \nL 208.0915 -45.092609 \nL 206.562035 -45.888852 \nL 205.032569 -46.497767 \nL 203.503104 -46.833991 \nL 201.973638 -46.904678 \nL 200.444173 -46.7986 \nL 198.914707 -46.635016 \nL 197.385242 -46.510888 \nL 195.855776 -46.476291 \nL 194.326311 -46.538706 \nL 192.796845 -46.680705 \nL 191.26738 -46.880906 \nL 189.737914 -47.135625 \nL 188.208448 -47.474768 \nL 186.678983 -47.960468 \nL 185.149517 -48.664028 \nL 183.620052 -49.629734 \nL 182.090586 -50.83979 \nL 180.561121 -52.194244 \nL 179.031655 -53.521914 \nL 177.50219 -54.636358 \nL 175.972724 -55.428891 \nL 174.443259 -55.955179 \nL 172.913793 -56.457251 \nL 171.384328 -57.290973 \nL 169.854862 -58.779852 \nL 168.325397 -61.052849 \nL 166.795931 -63.935419 \nL 165.266466 -66.956889 \nL 163.737 -69.504428 \nL 162.207535 -71.078949 \nL 160.678069 -71.524744 \nL 159.148604 -71.094469 \nL 157.619138 -70.312037 \nL 156.089673 -69.731881 \nL 154.560207 -69.743066 \nL 153.030742 -70.501039 \nL 151.501276 -71.972184 \nL 149.971811 -74.029822 \nL 148.442345 -76.543563 \nL 146.91288 -79.419837 \nL 145.383414 -82.580042 \nL 143.853949 -85.913207 \nL 142.324483 -89.269671 \nL 140.795018 -92.519207 \nL 139.265552 -95.618812 \nL 137.736087 -98.623861 \nL 136.206621 -101.650833 \nL 134.677156 -104.850874 \nL 133.14769 -108.400323 \nL 131.618225 -112.441971 \nL 130.088759 -116.954187 \nL 128.559294 -121.650591 \nL 127.029828 -126.039457 \nL 125.500363 -129.632452 \nL 123.970897 -132.152398 \nL 122.441432 -133.621578 \nL 120.911966 -134.347699 \nL 119.382501 -134.865185 \nL 117.853035 -135.810063 \nL 116.32357 -137.688518 \nL 114.794104 -140.631104 \nL 113.264639 -144.335651 \nL 111.735173 -148.296416 \nL 110.205708 -152.171242 \nL 108.676242 -156.021787 \nL 107.146776 -160.294202 \nL 105.617311 -165.627891 \nL 104.087845 -172.665045 \nL 102.55838 -181.93669 \nL 101.028914 -193.742207 \nL 99.499449 -207.86505 \nL 97.969983 -223.077654 \nL 96.440518 -236.6855 \nL 94.911052 -244.641964 \nL 93.381587 -242.660464 \nL 91.852121 -228.092491 \nL 90.322656 -201.553366 \nL 88.79319 -167.142944 \nL 87.263725 -130.942876 \nL 85.734259 -98.650413 \nL 84.204794 -73.723161 \nL 82.675328 -56.887238 \nL 81.145863 -46.870665 \nL 79.616397 -41.597768 \nL 78.086932 -39.134174 \nz\n\" id=\"m467e0339a8\" style=\"stroke:#1f77b4;\"/>\n    </defs>\n    <g clip-path=\"url(#p13520eb918)\">\n     <use style=\"fill:#1f77b4;fill-opacity:0.25;stroke:#1f77b4;\" x=\"0\" xlink:href=\"#m467e0339a8\" y=\"262.19625\"/>\n    </g>\n   </g>\n   <g id=\"matplotlib.axis_1\">\n    <g id=\"xtick_1\">\n     <g id=\"line2d_1\">\n      <defs>\n       <path d=\"M 0 0 \nL 0 3.5 \n\" id=\"me9e8594c50\" style=\"stroke:#000000;stroke-width:0.8;\"/>\n      </defs>\n      <g>\n       <use style=\"stroke:#000000;stroke-width:0.8;\" x=\"91.916895\" xlink:href=\"#me9e8594c50\" y=\"224.64\"/>\n      </g>\n     </g>\n     <g id=\"text_1\">\n      <!-- 0 -->\n      <g transform=\"translate(88.735645 239.238437)scale(0.1 -0.1)\">\n       <defs>\n        <path d=\"M 31.78125 66.40625 \nQ 24.171875 66.40625 20.328125 58.90625 \nQ 16.5 51.421875 16.5 36.375 \nQ 16.5 21.390625 20.328125 13.890625 \nQ 24.171875 6.390625 31.78125 6.390625 \nQ 39.453125 6.390625 43.28125 13.890625 \nQ 47.125 21.390625 47.125 36.375 \nQ 47.125 51.421875 43.28125 58.90625 \nQ 39.453125 66.40625 31.78125 66.40625 \nz\nM 31.78125 74.21875 \nQ 44.046875 74.21875 50.515625 64.515625 \nQ 56.984375 54.828125 56.984375 36.375 \nQ 56.984375 17.96875 50.515625 8.265625 \nQ 44.046875 -1.421875 31.78125 -1.421875 \nQ 19.53125 -1.421875 13.0625 8.265625 \nQ 6.59375 17.96875 6.59375 36.375 \nQ 6.59375 54.828125 13.0625 64.515625 \nQ 19.53125 74.21875 31.78125 74.21875 \nz\n\" id=\"DejaVuSans-48\"/>\n       </defs>\n       <use xlink:href=\"#DejaVuSans-48\"/>\n      </g>\n     </g>\n    </g>\n    <g id=\"xtick_2\">\n     <g id=\"line2d_2\">\n      <g>\n       <use style=\"stroke:#000000;stroke-width:0.8;\" x=\"162.18193\" xlink:href=\"#me9e8594c50\" y=\"224.64\"/>\n      </g>\n     </g>\n     <g id=\"text_2\">\n      <!-- 500 -->\n      <g transform=\"translate(152.63818 239.238437)scale(0.1 -0.1)\">\n       <defs>\n        <path d=\"M 10.796875 72.90625 \nL 49.515625 72.90625 \nL 49.515625 64.59375 \nL 19.828125 64.59375 \nL 19.828125 46.734375 \nQ 21.96875 47.46875 24.109375 47.828125 \nQ 26.265625 48.1875 28.421875 48.1875 \nQ 40.625 48.1875 47.75 41.5 \nQ 54.890625 34.8125 54.890625 23.390625 \nQ 54.890625 11.625 47.5625 5.09375 \nQ 40.234375 -1.421875 26.90625 -1.421875 \nQ 22.3125 -1.421875 17.546875 -0.640625 \nQ 12.796875 0.140625 7.71875 1.703125 \nL 7.71875 11.625 \nQ 12.109375 9.234375 16.796875 8.0625 \nQ 21.484375 6.890625 26.703125 6.890625 \nQ 35.15625 6.890625 40.078125 11.328125 \nQ 45.015625 15.765625 45.015625 23.390625 \nQ 45.015625 31 40.078125 35.4375 \nQ 35.15625 39.890625 26.703125 39.890625 \nQ 22.75 39.890625 18.8125 39.015625 \nQ 14.890625 38.140625 10.796875 36.28125 \nz\n\" id=\"DejaVuSans-53\"/>\n       </defs>\n       <use xlink:href=\"#DejaVuSans-53\"/>\n       <use x=\"63.623047\" xlink:href=\"#DejaVuSans-48\"/>\n       <use x=\"127.246094\" xlink:href=\"#DejaVuSans-48\"/>\n      </g>\n     </g>\n    </g>\n    <g id=\"xtick_3\">\n     <g id=\"line2d_3\">\n      <g>\n       <use style=\"stroke:#000000;stroke-width:0.8;\" x=\"232.446966\" xlink:href=\"#me9e8594c50\" y=\"224.64\"/>\n      </g>\n     </g>\n     <g id=\"text_3\">\n      <!-- 1000 -->\n      <g transform=\"translate(219.721966 239.238437)scale(0.1 -0.1)\">\n       <defs>\n        <path d=\"M 12.40625 8.296875 \nL 28.515625 8.296875 \nL 28.515625 63.921875 \nL 10.984375 60.40625 \nL 10.984375 69.390625 \nL 28.421875 72.90625 \nL 38.28125 72.90625 \nL 38.28125 8.296875 \nL 54.390625 8.296875 \nL 54.390625 0 \nL 12.40625 0 \nz\n\" id=\"DejaVuSans-49\"/>\n       </defs>\n       <use xlink:href=\"#DejaVuSans-49\"/>\n       <use x=\"63.623047\" xlink:href=\"#DejaVuSans-48\"/>\n       <use x=\"127.246094\" xlink:href=\"#DejaVuSans-48\"/>\n       <use x=\"190.869141\" xlink:href=\"#DejaVuSans-48\"/>\n      </g>\n     </g>\n    </g>\n    <g id=\"xtick_4\">\n     <g id=\"line2d_4\">\n      <g>\n       <use style=\"stroke:#000000;stroke-width:0.8;\" x=\"302.712002\" xlink:href=\"#me9e8594c50\" y=\"224.64\"/>\n      </g>\n     </g>\n     <g id=\"text_4\">\n      <!-- 1500 -->\n      <g transform=\"translate(289.987002 239.238437)scale(0.1 -0.1)\">\n       <use xlink:href=\"#DejaVuSans-49\"/>\n       <use x=\"63.623047\" xlink:href=\"#DejaVuSans-53\"/>\n       <use x=\"127.246094\" xlink:href=\"#DejaVuSans-48\"/>\n       <use x=\"190.869141\" xlink:href=\"#DejaVuSans-48\"/>\n      </g>\n     </g>\n    </g>\n    <g id=\"xtick_5\">\n     <g id=\"line2d_5\">\n      <g>\n       <use style=\"stroke:#000000;stroke-width:0.8;\" x=\"372.977038\" xlink:href=\"#me9e8594c50\" y=\"224.64\"/>\n      </g>\n     </g>\n     <g id=\"text_5\">\n      <!-- 2000 -->\n      <g transform=\"translate(360.252038 239.238437)scale(0.1 -0.1)\">\n       <defs>\n        <path d=\"M 19.1875 8.296875 \nL 53.609375 8.296875 \nL 53.609375 0 \nL 7.328125 0 \nL 7.328125 8.296875 \nQ 12.9375 14.109375 22.625 23.890625 \nQ 32.328125 33.6875 34.8125 36.53125 \nQ 39.546875 41.84375 41.421875 45.53125 \nQ 43.3125 49.21875 43.3125 52.78125 \nQ 43.3125 58.59375 39.234375 62.25 \nQ 35.15625 65.921875 28.609375 65.921875 \nQ 23.96875 65.921875 18.8125 64.3125 \nQ 13.671875 62.703125 7.8125 59.421875 \nL 7.8125 69.390625 \nQ 13.765625 71.78125 18.9375 73 \nQ 24.125 74.21875 28.421875 74.21875 \nQ 39.75 74.21875 46.484375 68.546875 \nQ 53.21875 62.890625 53.21875 53.421875 \nQ 53.21875 48.921875 51.53125 44.890625 \nQ 49.859375 40.875 45.40625 35.40625 \nQ 44.1875 33.984375 37.640625 27.21875 \nQ 31.109375 20.453125 19.1875 8.296875 \nz\n\" id=\"DejaVuSans-50\"/>\n       </defs>\n       <use xlink:href=\"#DejaVuSans-50\"/>\n       <use x=\"63.623047\" xlink:href=\"#DejaVuSans-48\"/>\n       <use x=\"127.246094\" xlink:href=\"#DejaVuSans-48\"/>\n       <use x=\"190.869141\" xlink:href=\"#DejaVuSans-48\"/>\n      </g>\n     </g>\n    </g>\n    <g id=\"text_6\">\n     <!-- population -->\n     <g transform=\"translate(203.661719 252.916562)scale(0.1 -0.1)\">\n      <defs>\n       <path d=\"M 18.109375 8.203125 \nL 18.109375 -20.796875 \nL 9.078125 -20.796875 \nL 9.078125 54.6875 \nL 18.109375 54.6875 \nL 18.109375 46.390625 \nQ 20.953125 51.265625 25.265625 53.625 \nQ 29.59375 56 35.59375 56 \nQ 45.5625 56 51.78125 48.09375 \nQ 58.015625 40.1875 58.015625 27.296875 \nQ 58.015625 14.40625 51.78125 6.484375 \nQ 45.5625 -1.421875 35.59375 -1.421875 \nQ 29.59375 -1.421875 25.265625 0.953125 \nQ 20.953125 3.328125 18.109375 8.203125 \nz\nM 48.6875 27.296875 \nQ 48.6875 37.203125 44.609375 42.84375 \nQ 40.53125 48.484375 33.40625 48.484375 \nQ 26.265625 48.484375 22.1875 42.84375 \nQ 18.109375 37.203125 18.109375 27.296875 \nQ 18.109375 17.390625 22.1875 11.75 \nQ 26.265625 6.109375 33.40625 6.109375 \nQ 40.53125 6.109375 44.609375 11.75 \nQ 48.6875 17.390625 48.6875 27.296875 \nz\n\" id=\"DejaVuSans-112\"/>\n       <path d=\"M 30.609375 48.390625 \nQ 23.390625 48.390625 19.1875 42.75 \nQ 14.984375 37.109375 14.984375 27.296875 \nQ 14.984375 17.484375 19.15625 11.84375 \nQ 23.34375 6.203125 30.609375 6.203125 \nQ 37.796875 6.203125 41.984375 11.859375 \nQ 46.1875 17.53125 46.1875 27.296875 \nQ 46.1875 37.015625 41.984375 42.703125 \nQ 37.796875 48.390625 30.609375 48.390625 \nz\nM 30.609375 56 \nQ 42.328125 56 49.015625 48.375 \nQ 55.71875 40.765625 55.71875 27.296875 \nQ 55.71875 13.875 49.015625 6.21875 \nQ 42.328125 -1.421875 30.609375 -1.421875 \nQ 18.84375 -1.421875 12.171875 6.21875 \nQ 5.515625 13.875 5.515625 27.296875 \nQ 5.515625 40.765625 12.171875 48.375 \nQ 18.84375 56 30.609375 56 \nz\n\" id=\"DejaVuSans-111\"/>\n       <path d=\"M 8.5 21.578125 \nL 8.5 54.6875 \nL 17.484375 54.6875 \nL 17.484375 21.921875 \nQ 17.484375 14.15625 20.5 10.265625 \nQ 23.53125 6.390625 29.59375 6.390625 \nQ 36.859375 6.390625 41.078125 11.03125 \nQ 45.3125 15.671875 45.3125 23.6875 \nL 45.3125 54.6875 \nL 54.296875 54.6875 \nL 54.296875 0 \nL 45.3125 0 \nL 45.3125 8.40625 \nQ 42.046875 3.421875 37.71875 1 \nQ 33.40625 -1.421875 27.6875 -1.421875 \nQ 18.265625 -1.421875 13.375 4.4375 \nQ 8.5 10.296875 8.5 21.578125 \nz\nM 31.109375 56 \nz\n\" id=\"DejaVuSans-117\"/>\n       <path d=\"M 9.421875 75.984375 \nL 18.40625 75.984375 \nL 18.40625 0 \nL 9.421875 0 \nz\n\" id=\"DejaVuSans-108\"/>\n       <path d=\"M 34.28125 27.484375 \nQ 23.390625 27.484375 19.1875 25 \nQ 14.984375 22.515625 14.984375 16.5 \nQ 14.984375 11.71875 18.140625 8.90625 \nQ 21.296875 6.109375 26.703125 6.109375 \nQ 34.1875 6.109375 38.703125 11.40625 \nQ 43.21875 16.703125 43.21875 25.484375 \nL 43.21875 27.484375 \nz\nM 52.203125 31.203125 \nL 52.203125 0 \nL 43.21875 0 \nL 43.21875 8.296875 \nQ 40.140625 3.328125 35.546875 0.953125 \nQ 30.953125 -1.421875 24.3125 -1.421875 \nQ 15.921875 -1.421875 10.953125 3.296875 \nQ 6 8.015625 6 15.921875 \nQ 6 25.140625 12.171875 29.828125 \nQ 18.359375 34.515625 30.609375 34.515625 \nL 43.21875 34.515625 \nL 43.21875 35.40625 \nQ 43.21875 41.609375 39.140625 45 \nQ 35.0625 48.390625 27.6875 48.390625 \nQ 23 48.390625 18.546875 47.265625 \nQ 14.109375 46.140625 10.015625 43.890625 \nL 10.015625 52.203125 \nQ 14.9375 54.109375 19.578125 55.046875 \nQ 24.21875 56 28.609375 56 \nQ 40.484375 56 46.34375 49.84375 \nQ 52.203125 43.703125 52.203125 31.203125 \nz\n\" id=\"DejaVuSans-97\"/>\n       <path d=\"M 18.3125 70.21875 \nL 18.3125 54.6875 \nL 36.8125 54.6875 \nL 36.8125 47.703125 \nL 18.3125 47.703125 \nL 18.3125 18.015625 \nQ 18.3125 11.328125 20.140625 9.421875 \nQ 21.96875 7.515625 27.59375 7.515625 \nL 36.8125 7.515625 \nL 36.8125 0 \nL 27.59375 0 \nQ 17.1875 0 13.234375 3.875 \nQ 9.28125 7.765625 9.28125 18.015625 \nL 9.28125 47.703125 \nL 2.6875 47.703125 \nL 2.6875 54.6875 \nL 9.28125 54.6875 \nL 9.28125 70.21875 \nz\n\" id=\"DejaVuSans-116\"/>\n       <path d=\"M 9.421875 54.6875 \nL 18.40625 54.6875 \nL 18.40625 0 \nL 9.421875 0 \nz\nM 9.421875 75.984375 \nL 18.40625 75.984375 \nL 18.40625 64.59375 \nL 9.421875 64.59375 \nz\n\" id=\"DejaVuSans-105\"/>\n       <path d=\"M 54.890625 33.015625 \nL 54.890625 0 \nL 45.90625 0 \nL 45.90625 32.71875 \nQ 45.90625 40.484375 42.875 44.328125 \nQ 39.84375 48.1875 33.796875 48.1875 \nQ 26.515625 48.1875 22.3125 43.546875 \nQ 18.109375 38.921875 18.109375 30.90625 \nL 18.109375 0 \nL 9.078125 0 \nL 9.078125 54.6875 \nL 18.109375 54.6875 \nL 18.109375 46.1875 \nQ 21.34375 51.125 25.703125 53.5625 \nQ 30.078125 56 35.796875 56 \nQ 45.21875 56 50.046875 50.171875 \nQ 54.890625 44.34375 54.890625 33.015625 \nz\n\" id=\"DejaVuSans-110\"/>\n      </defs>\n      <use xlink:href=\"#DejaVuSans-112\"/>\n      <use x=\"63.476562\" xlink:href=\"#DejaVuSans-111\"/>\n      <use x=\"124.658203\" xlink:href=\"#DejaVuSans-112\"/>\n      <use x=\"188.134766\" xlink:href=\"#DejaVuSans-117\"/>\n      <use x=\"251.513672\" xlink:href=\"#DejaVuSans-108\"/>\n      <use x=\"279.296875\" xlink:href=\"#DejaVuSans-97\"/>\n      <use x=\"340.576172\" xlink:href=\"#DejaVuSans-116\"/>\n      <use x=\"379.785156\" xlink:href=\"#DejaVuSans-105\"/>\n      <use x=\"407.568359\" xlink:href=\"#DejaVuSans-111\"/>\n      <use x=\"468.75\" xlink:href=\"#DejaVuSans-110\"/>\n     </g>\n    </g>\n   </g>\n   <g id=\"matplotlib.axis_2\">\n    <g id=\"ytick_1\">\n     <g id=\"line2d_6\">\n      <defs>\n       <path d=\"M 0 0 \nL -3.5 0 \n\" id=\"m0ec3e47bc2\" style=\"stroke:#000000;stroke-width:0.8;\"/>\n      </defs>\n      <g>\n       <use style=\"stroke:#000000;stroke-width:0.8;\" x=\"62.86875\" xlink:href=\"#m0ec3e47bc2\" y=\"224.64\"/>\n      </g>\n     </g>\n     <g id=\"text_7\">\n      <!-- 0.0000 -->\n      <g transform=\"translate(20.878125 228.439219)scale(0.1 -0.1)\">\n       <defs>\n        <path d=\"M 10.6875 12.40625 \nL 21 12.40625 \nL 21 0 \nL 10.6875 0 \nz\n\" id=\"DejaVuSans-46\"/>\n       </defs>\n       <use xlink:href=\"#DejaVuSans-48\"/>\n       <use x=\"63.623047\" xlink:href=\"#DejaVuSans-46\"/>\n       <use x=\"95.410156\" xlink:href=\"#DejaVuSans-48\"/>\n       <use x=\"159.033203\" xlink:href=\"#DejaVuSans-48\"/>\n       <use x=\"222.65625\" xlink:href=\"#DejaVuSans-48\"/>\n       <use x=\"286.279297\" xlink:href=\"#DejaVuSans-48\"/>\n      </g>\n     </g>\n    </g>\n    <g id=\"ytick_2\">\n     <g id=\"line2d_7\">\n      <g>\n       <use style=\"stroke:#000000;stroke-width:0.8;\" x=\"62.86875\" xlink:href=\"#m0ec3e47bc2\" y=\"194.875972\"/>\n      </g>\n     </g>\n     <g id=\"text_8\">\n      <!-- 0.0005 -->\n      <g transform=\"translate(20.878125 198.675191)scale(0.1 -0.1)\">\n       <use xlink:href=\"#DejaVuSans-48\"/>\n       <use x=\"63.623047\" xlink:href=\"#DejaVuSans-46\"/>\n       <use x=\"95.410156\" xlink:href=\"#DejaVuSans-48\"/>\n       <use x=\"159.033203\" xlink:href=\"#DejaVuSans-48\"/>\n       <use x=\"222.65625\" xlink:href=\"#DejaVuSans-48\"/>\n       <use x=\"286.279297\" xlink:href=\"#DejaVuSans-53\"/>\n      </g>\n     </g>\n    </g>\n    <g id=\"ytick_3\">\n     <g id=\"line2d_8\">\n      <g>\n       <use style=\"stroke:#000000;stroke-width:0.8;\" x=\"62.86875\" xlink:href=\"#m0ec3e47bc2\" y=\"165.111944\"/>\n      </g>\n     </g>\n     <g id=\"text_9\">\n      <!-- 0.0010 -->\n      <g transform=\"translate(20.878125 168.911163)scale(0.1 -0.1)\">\n       <use xlink:href=\"#DejaVuSans-48\"/>\n       <use x=\"63.623047\" xlink:href=\"#DejaVuSans-46\"/>\n       <use x=\"95.410156\" xlink:href=\"#DejaVuSans-48\"/>\n       <use x=\"159.033203\" xlink:href=\"#DejaVuSans-48\"/>\n       <use x=\"222.65625\" xlink:href=\"#DejaVuSans-49\"/>\n       <use x=\"286.279297\" xlink:href=\"#DejaVuSans-48\"/>\n      </g>\n     </g>\n    </g>\n    <g id=\"ytick_4\">\n     <g id=\"line2d_9\">\n      <g>\n       <use style=\"stroke:#000000;stroke-width:0.8;\" x=\"62.86875\" xlink:href=\"#m0ec3e47bc2\" y=\"135.347916\"/>\n      </g>\n     </g>\n     <g id=\"text_10\">\n      <!-- 0.0015 -->\n      <g transform=\"translate(20.878125 139.147135)scale(0.1 -0.1)\">\n       <use xlink:href=\"#DejaVuSans-48\"/>\n       <use x=\"63.623047\" xlink:href=\"#DejaVuSans-46\"/>\n       <use x=\"95.410156\" xlink:href=\"#DejaVuSans-48\"/>\n       <use x=\"159.033203\" xlink:href=\"#DejaVuSans-48\"/>\n       <use x=\"222.65625\" xlink:href=\"#DejaVuSans-49\"/>\n       <use x=\"286.279297\" xlink:href=\"#DejaVuSans-53\"/>\n      </g>\n     </g>\n    </g>\n    <g id=\"ytick_5\">\n     <g id=\"line2d_10\">\n      <g>\n       <use style=\"stroke:#000000;stroke-width:0.8;\" x=\"62.86875\" xlink:href=\"#m0ec3e47bc2\" y=\"105.583889\"/>\n      </g>\n     </g>\n     <g id=\"text_11\">\n      <!-- 0.0020 -->\n      <g transform=\"translate(20.878125 109.383107)scale(0.1 -0.1)\">\n       <use xlink:href=\"#DejaVuSans-48\"/>\n       <use x=\"63.623047\" xlink:href=\"#DejaVuSans-46\"/>\n       <use x=\"95.410156\" xlink:href=\"#DejaVuSans-48\"/>\n       <use x=\"159.033203\" xlink:href=\"#DejaVuSans-48\"/>\n       <use x=\"222.65625\" xlink:href=\"#DejaVuSans-50\"/>\n       <use x=\"286.279297\" xlink:href=\"#DejaVuSans-48\"/>\n      </g>\n     </g>\n    </g>\n    <g id=\"ytick_6\">\n     <g id=\"line2d_11\">\n      <g>\n       <use style=\"stroke:#000000;stroke-width:0.8;\" x=\"62.86875\" xlink:href=\"#m0ec3e47bc2\" y=\"75.819861\"/>\n      </g>\n     </g>\n     <g id=\"text_12\">\n      <!-- 0.0025 -->\n      <g transform=\"translate(20.878125 79.619079)scale(0.1 -0.1)\">\n       <use xlink:href=\"#DejaVuSans-48\"/>\n       <use x=\"63.623047\" xlink:href=\"#DejaVuSans-46\"/>\n       <use x=\"95.410156\" xlink:href=\"#DejaVuSans-48\"/>\n       <use x=\"159.033203\" xlink:href=\"#DejaVuSans-48\"/>\n       <use x=\"222.65625\" xlink:href=\"#DejaVuSans-50\"/>\n       <use x=\"286.279297\" xlink:href=\"#DejaVuSans-53\"/>\n      </g>\n     </g>\n    </g>\n    <g id=\"ytick_7\">\n     <g id=\"line2d_12\">\n      <g>\n       <use style=\"stroke:#000000;stroke-width:0.8;\" x=\"62.86875\" xlink:href=\"#m0ec3e47bc2\" y=\"46.055833\"/>\n      </g>\n     </g>\n     <g id=\"text_13\">\n      <!-- 0.0030 -->\n      <g transform=\"translate(20.878125 49.855052)scale(0.1 -0.1)\">\n       <defs>\n        <path d=\"M 40.578125 39.3125 \nQ 47.65625 37.796875 51.625 33 \nQ 55.609375 28.21875 55.609375 21.1875 \nQ 55.609375 10.40625 48.1875 4.484375 \nQ 40.765625 -1.421875 27.09375 -1.421875 \nQ 22.515625 -1.421875 17.65625 -0.515625 \nQ 12.796875 0.390625 7.625 2.203125 \nL 7.625 11.71875 \nQ 11.71875 9.328125 16.59375 8.109375 \nQ 21.484375 6.890625 26.8125 6.890625 \nQ 36.078125 6.890625 40.9375 10.546875 \nQ 45.796875 14.203125 45.796875 21.1875 \nQ 45.796875 27.640625 41.28125 31.265625 \nQ 36.765625 34.90625 28.71875 34.90625 \nL 20.21875 34.90625 \nL 20.21875 43.015625 \nL 29.109375 43.015625 \nQ 36.375 43.015625 40.234375 45.921875 \nQ 44.09375 48.828125 44.09375 54.296875 \nQ 44.09375 59.90625 40.109375 62.90625 \nQ 36.140625 65.921875 28.71875 65.921875 \nQ 24.65625 65.921875 20.015625 65.03125 \nQ 15.375 64.15625 9.8125 62.3125 \nL 9.8125 71.09375 \nQ 15.4375 72.65625 20.34375 73.4375 \nQ 25.25 74.21875 29.59375 74.21875 \nQ 40.828125 74.21875 47.359375 69.109375 \nQ 53.90625 64.015625 53.90625 55.328125 \nQ 53.90625 49.265625 50.4375 45.09375 \nQ 46.96875 40.921875 40.578125 39.3125 \nz\n\" id=\"DejaVuSans-51\"/>\n       </defs>\n       <use xlink:href=\"#DejaVuSans-48\"/>\n       <use x=\"63.623047\" xlink:href=\"#DejaVuSans-46\"/>\n       <use x=\"95.410156\" xlink:href=\"#DejaVuSans-48\"/>\n       <use x=\"159.033203\" xlink:href=\"#DejaVuSans-48\"/>\n       <use x=\"222.65625\" xlink:href=\"#DejaVuSans-51\"/>\n       <use x=\"286.279297\" xlink:href=\"#DejaVuSans-48\"/>\n      </g>\n     </g>\n    </g>\n    <g id=\"ytick_8\">\n     <g id=\"line2d_13\">\n      <g>\n       <use style=\"stroke:#000000;stroke-width:0.8;\" x=\"62.86875\" xlink:href=\"#m0ec3e47bc2\" y=\"16.291805\"/>\n      </g>\n     </g>\n     <g id=\"text_14\">\n      <!-- 0.0035 -->\n      <g transform=\"translate(20.878125 20.091024)scale(0.1 -0.1)\">\n       <use xlink:href=\"#DejaVuSans-48\"/>\n       <use x=\"63.623047\" xlink:href=\"#DejaVuSans-46\"/>\n       <use x=\"95.410156\" xlink:href=\"#DejaVuSans-48\"/>\n       <use x=\"159.033203\" xlink:href=\"#DejaVuSans-48\"/>\n       <use x=\"222.65625\" xlink:href=\"#DejaVuSans-51\"/>\n       <use x=\"286.279297\" xlink:href=\"#DejaVuSans-53\"/>\n      </g>\n     </g>\n    </g>\n    <g id=\"text_15\">\n     <!-- Density -->\n     <g transform=\"translate(14.798438 134.928594)rotate(-90)scale(0.1 -0.1)\">\n      <defs>\n       <path d=\"M 19.671875 64.796875 \nL 19.671875 8.109375 \nL 31.59375 8.109375 \nQ 46.6875 8.109375 53.6875 14.9375 \nQ 60.6875 21.78125 60.6875 36.53125 \nQ 60.6875 51.171875 53.6875 57.984375 \nQ 46.6875 64.796875 31.59375 64.796875 \nz\nM 9.8125 72.90625 \nL 30.078125 72.90625 \nQ 51.265625 72.90625 61.171875 64.09375 \nQ 71.09375 55.28125 71.09375 36.53125 \nQ 71.09375 17.671875 61.125 8.828125 \nQ 51.171875 0 30.078125 0 \nL 9.8125 0 \nz\n\" id=\"DejaVuSans-68\"/>\n       <path d=\"M 56.203125 29.59375 \nL 56.203125 25.203125 \nL 14.890625 25.203125 \nQ 15.484375 15.921875 20.484375 11.0625 \nQ 25.484375 6.203125 34.421875 6.203125 \nQ 39.59375 6.203125 44.453125 7.46875 \nQ 49.3125 8.734375 54.109375 11.28125 \nL 54.109375 2.78125 \nQ 49.265625 0.734375 44.1875 -0.34375 \nQ 39.109375 -1.421875 33.890625 -1.421875 \nQ 20.796875 -1.421875 13.15625 6.1875 \nQ 5.515625 13.8125 5.515625 26.8125 \nQ 5.515625 40.234375 12.765625 48.109375 \nQ 20.015625 56 32.328125 56 \nQ 43.359375 56 49.78125 48.890625 \nQ 56.203125 41.796875 56.203125 29.59375 \nz\nM 47.21875 32.234375 \nQ 47.125 39.59375 43.09375 43.984375 \nQ 39.0625 48.390625 32.421875 48.390625 \nQ 24.90625 48.390625 20.390625 44.140625 \nQ 15.875 39.890625 15.1875 32.171875 \nz\n\" id=\"DejaVuSans-101\"/>\n       <path d=\"M 44.28125 53.078125 \nL 44.28125 44.578125 \nQ 40.484375 46.53125 36.375 47.5 \nQ 32.28125 48.484375 27.875 48.484375 \nQ 21.1875 48.484375 17.84375 46.4375 \nQ 14.5 44.390625 14.5 40.28125 \nQ 14.5 37.15625 16.890625 35.375 \nQ 19.28125 33.59375 26.515625 31.984375 \nL 29.59375 31.296875 \nQ 39.15625 29.25 43.1875 25.515625 \nQ 47.21875 21.78125 47.21875 15.09375 \nQ 47.21875 7.46875 41.1875 3.015625 \nQ 35.15625 -1.421875 24.609375 -1.421875 \nQ 20.21875 -1.421875 15.453125 -0.5625 \nQ 10.6875 0.296875 5.421875 2 \nL 5.421875 11.28125 \nQ 10.40625 8.6875 15.234375 7.390625 \nQ 20.0625 6.109375 24.8125 6.109375 \nQ 31.15625 6.109375 34.5625 8.28125 \nQ 37.984375 10.453125 37.984375 14.40625 \nQ 37.984375 18.0625 35.515625 20.015625 \nQ 33.0625 21.96875 24.703125 23.78125 \nL 21.578125 24.515625 \nQ 13.234375 26.265625 9.515625 29.90625 \nQ 5.8125 33.546875 5.8125 39.890625 \nQ 5.8125 47.609375 11.28125 51.796875 \nQ 16.75 56 26.8125 56 \nQ 31.78125 56 36.171875 55.265625 \nQ 40.578125 54.546875 44.28125 53.078125 \nz\n\" id=\"DejaVuSans-115\"/>\n       <path d=\"M 32.171875 -5.078125 \nQ 28.375 -14.84375 24.75 -17.8125 \nQ 21.140625 -20.796875 15.09375 -20.796875 \nL 7.90625 -20.796875 \nL 7.90625 -13.28125 \nL 13.1875 -13.28125 \nQ 16.890625 -13.28125 18.9375 -11.515625 \nQ 21 -9.765625 23.484375 -3.21875 \nL 25.09375 0.875 \nL 2.984375 54.6875 \nL 12.5 54.6875 \nL 29.59375 11.921875 \nL 46.6875 54.6875 \nL 56.203125 54.6875 \nz\n\" id=\"DejaVuSans-121\"/>\n      </defs>\n      <use xlink:href=\"#DejaVuSans-68\"/>\n      <use x=\"77.001953\" xlink:href=\"#DejaVuSans-101\"/>\n      <use x=\"138.525391\" xlink:href=\"#DejaVuSans-110\"/>\n      <use x=\"201.904297\" xlink:href=\"#DejaVuSans-115\"/>\n      <use x=\"254.003906\" xlink:href=\"#DejaVuSans-105\"/>\n      <use x=\"281.787109\" xlink:href=\"#DejaVuSans-116\"/>\n      <use x=\"320.996094\" xlink:href=\"#DejaVuSans-121\"/>\n     </g>\n    </g>\n   </g>\n   <g id=\"patch_3\">\n    <path d=\"M 62.86875 224.64 \nL 62.86875 7.2 \n\" style=\"fill:none;stroke:#000000;stroke-linecap:square;stroke-linejoin:miter;stroke-width:0.8;\"/>\n   </g>\n   <g id=\"patch_4\">\n    <path d=\"M 397.66875 224.64 \nL 397.66875 7.2 \n\" style=\"fill:none;stroke:#000000;stroke-linecap:square;stroke-linejoin:miter;stroke-width:0.8;\"/>\n   </g>\n   <g id=\"patch_5\">\n    <path d=\"M 62.86875 224.64 \nL 397.66875 224.64 \n\" style=\"fill:none;stroke:#000000;stroke-linecap:square;stroke-linejoin:miter;stroke-width:0.8;\"/>\n   </g>\n   <g id=\"patch_6\">\n    <path d=\"M 62.86875 7.2 \nL 397.66875 7.2 \n\" style=\"fill:none;stroke:#000000;stroke-linecap:square;stroke-linejoin:miter;stroke-width:0.8;\"/>\n   </g>\n  </g>\n </g>\n <defs>\n  <clipPath id=\"p13520eb918\">\n   <rect height=\"217.44\" width=\"334.8\" x=\"62.86875\" y=\"7.2\"/>\n  </clipPath>\n </defs>\n</svg>\n",
      "image/png": "[encoded data removed]"
     },
     "metadata": {
      "needs_background": "light"
     }
    }
   ],
   "source": [
    "plt.figure()\n",
    "col = \"population\"\n",
    "sns.kdeplot(data=df_exp[(df_exp[col] > 0) & (df_exp[col] <2000)], x=col, fill=True)"
   ]
  },
  {
   "source": [
    "Population : There is 36% of missing value, these values will be replace by the median (the distribution is skewed)"
   ],
   "cell_type": "markdown",
   "metadata": {}
  },
  {
   "cell_type": "code",
   "execution_count": 16,
   "metadata": {},
   "outputs": [
    {
     "output_type": "execute_result",
     "data": {
      "text/plain": [
       "0       0.348636\n",
       "2010    0.044529\n",
       "2008    0.043990\n",
       "2009    0.042643\n",
       "2000    0.035202\n",
       "Name: construction_year, dtype: float64"
      ]
     },
     "metadata": {},
     "execution_count": 16
    }
   ],
   "source": [
    "df_exp[\"construction_year\"].value_counts(normalize=True).sort_values(ascending=False).head()"
   ]
  },
  {
   "cell_type": "code",
   "execution_count": 17,
   "metadata": {},
   "outputs": [
    {
     "output_type": "execute_result",
     "data": {
      "text/plain": [
       "<AxesSubplot:xlabel='construction_year', ylabel='Density'>"
      ]
     },
     "metadata": {},
     "execution_count": 17
    },
    {
     "output_type": "display_data",
     "data": {
      "text/plain": "<Figure size 432x288 with 1 Axes>",
      "image/svg+xml": "<?xml version=\"1.0\" encoding=\"utf-8\" standalone=\"no\"?>\n<!DOCTYPE svg PUBLIC \"-//W3C//DTD SVG 1.1//EN\"\n  \"http://www.w3.org/Graphics/SVG/1.1/DTD/svg11.dtd\">\n<!-- Created with matplotlib (https://matplotlib.org/) -->\n<svg height=\"262.474375pt\" version=\"1.1\" viewBox=\"0 0 401.795283 262.474375\" width=\"401.795283pt\" xmlns=\"http://www.w3.org/2000/svg\" xmlns:xlink=\"http://www.w3.org/1999/xlink\">\n <metadata>\n  <rdf:RDF xmlns:cc=\"http://creativecommons.org/ns#\" xmlns:dc=\"http://purl.org/dc/elements/1.1/\" xmlns:rdf=\"http://www.w3.org/1999/02/22-rdf-syntax-ns#\">\n   <cc:Work>\n    <dc:type rdf:resource=\"http://purl.org/dc/dcmitype/StillImage\"/>\n    <dc:date>2021-04-09T23:25:46.215327</dc:date>\n    <dc:format>image/svg+xml</dc:format>\n    <dc:creator>\n     <cc:Agent>\n      <dc:title>Matplotlib v3.3.4, https://matplotlib.org/</dc:title>\n     </cc:Agent>\n    </dc:creator>\n   </cc:Work>\n  </rdf:RDF>\n </metadata>\n <defs>\n  <style type=\"text/css\">*{stroke-linecap:butt;stroke-linejoin:round;}</style>\n </defs>\n <g id=\"figure_1\">\n  <g id=\"patch_1\">\n   <path d=\"M 0 262.474375 \nL 401.795283 262.474375 \nL 401.795283 0 \nL 0 0 \nz\n\" style=\"fill:none;\"/>\n  </g>\n  <g id=\"axes_1\">\n   <g id=\"patch_2\">\n    <path d=\"M 50.14375 224.64 \nL 384.94375 224.64 \nL 384.94375 7.2 \nL 50.14375 7.2 \nz\n\" style=\"fill:#ffffff;\"/>\n   </g>\n   <g id=\"PolyCollection_1\">\n    <defs>\n     <path d=\"M 65.361932 -37.863184 \nL 65.361932 -37.834375 \nL 66.891397 -37.834375 \nL 68.420863 -37.834375 \nL 69.950328 -37.834375 \nL 71.479794 -37.834375 \nL 73.009259 -37.834375 \nL 74.538725 -37.834375 \nL 76.06819 -37.834375 \nL 77.597656 -37.834375 \nL 79.127121 -37.834375 \nL 80.656587 -37.834375 \nL 82.186052 -37.834375 \nL 83.715518 -37.834375 \nL 85.244983 -37.834375 \nL 86.774449 -37.834375 \nL 88.303914 -37.834375 \nL 89.83338 -37.834375 \nL 91.362845 -37.834375 \nL 92.892311 -37.834375 \nL 94.421776 -37.834375 \nL 95.951242 -37.834375 \nL 97.480708 -37.834375 \nL 99.010173 -37.834375 \nL 100.539639 -37.834375 \nL 102.069104 -37.834375 \nL 103.59857 -37.834375 \nL 105.128035 -37.834375 \nL 106.657501 -37.834375 \nL 108.186966 -37.834375 \nL 109.716432 -37.834375 \nL 111.245897 -37.834375 \nL 112.775363 -37.834375 \nL 114.304828 -37.834375 \nL 115.834294 -37.834375 \nL 117.363759 -37.834375 \nL 118.893225 -37.834375 \nL 120.42269 -37.834375 \nL 121.952156 -37.834375 \nL 123.481621 -37.834375 \nL 125.011087 -37.834375 \nL 126.540552 -37.834375 \nL 128.070018 -37.834375 \nL 129.599483 -37.834375 \nL 131.128949 -37.834375 \nL 132.658414 -37.834375 \nL 134.18788 -37.834375 \nL 135.717345 -37.834375 \nL 137.246811 -37.834375 \nL 138.776276 -37.834375 \nL 140.305742 -37.834375 \nL 141.835207 -37.834375 \nL 143.364673 -37.834375 \nL 144.894138 -37.834375 \nL 146.423604 -37.834375 \nL 147.953069 -37.834375 \nL 149.482535 -37.834375 \nL 151.012 -37.834375 \nL 152.541466 -37.834375 \nL 154.070931 -37.834375 \nL 155.600397 -37.834375 \nL 157.129862 -37.834375 \nL 158.659328 -37.834375 \nL 160.188793 -37.834375 \nL 161.718259 -37.834375 \nL 163.247724 -37.834375 \nL 164.77719 -37.834375 \nL 166.306655 -37.834375 \nL 167.836121 -37.834375 \nL 169.365586 -37.834375 \nL 170.895052 -37.834375 \nL 172.424517 -37.834375 \nL 173.953983 -37.834375 \nL 175.483448 -37.834375 \nL 177.012914 -37.834375 \nL 178.54238 -37.834375 \nL 180.071845 -37.834375 \nL 181.601311 -37.834375 \nL 183.130776 -37.834375 \nL 184.660242 -37.834375 \nL 186.189707 -37.834375 \nL 187.719173 -37.834375 \nL 189.248638 -37.834375 \nL 190.778104 -37.834375 \nL 192.307569 -37.834375 \nL 193.837035 -37.834375 \nL 195.3665 -37.834375 \nL 196.895966 -37.834375 \nL 198.425431 -37.834375 \nL 199.954897 -37.834375 \nL 201.484362 -37.834375 \nL 203.013828 -37.834375 \nL 204.543293 -37.834375 \nL 206.072759 -37.834375 \nL 207.602224 -37.834375 \nL 209.13169 -37.834375 \nL 210.661155 -37.834375 \nL 212.190621 -37.834375 \nL 213.720086 -37.834375 \nL 215.249552 -37.834375 \nL 216.779017 -37.834375 \nL 218.308483 -37.834375 \nL 219.837948 -37.834375 \nL 221.367414 -37.834375 \nL 222.896879 -37.834375 \nL 224.426345 -37.834375 \nL 225.95581 -37.834375 \nL 227.485276 -37.834375 \nL 229.014741 -37.834375 \nL 230.544207 -37.834375 \nL 232.073672 -37.834375 \nL 233.603138 -37.834375 \nL 235.132603 -37.834375 \nL 236.662069 -37.834375 \nL 238.191534 -37.834375 \nL 239.721 -37.834375 \nL 241.250465 -37.834375 \nL 242.779931 -37.834375 \nL 244.309396 -37.834375 \nL 245.838862 -37.834375 \nL 247.368327 -37.834375 \nL 248.897793 -37.834375 \nL 250.427258 -37.834375 \nL 251.956724 -37.834375 \nL 253.486189 -37.834375 \nL 255.015655 -37.834375 \nL 256.54512 -37.834375 \nL 258.074586 -37.834375 \nL 259.604052 -37.834375 \nL 261.133517 -37.834375 \nL 262.662983 -37.834375 \nL 264.192448 -37.834375 \nL 265.721914 -37.834375 \nL 267.251379 -37.834375 \nL 268.780845 -37.834375 \nL 270.31031 -37.834375 \nL 271.839776 -37.834375 \nL 273.369241 -37.834375 \nL 274.898707 -37.834375 \nL 276.428172 -37.834375 \nL 277.957638 -37.834375 \nL 279.487103 -37.834375 \nL 281.016569 -37.834375 \nL 282.546034 -37.834375 \nL 284.0755 -37.834375 \nL 285.604965 -37.834375 \nL 287.134431 -37.834375 \nL 288.663896 -37.834375 \nL 290.193362 -37.834375 \nL 291.722827 -37.834375 \nL 293.252293 -37.834375 \nL 294.781758 -37.834375 \nL 296.311224 -37.834375 \nL 297.840689 -37.834375 \nL 299.370155 -37.834375 \nL 300.89962 -37.834375 \nL 302.429086 -37.834375 \nL 303.958551 -37.834375 \nL 305.488017 -37.834375 \nL 307.017482 -37.834375 \nL 308.546948 -37.834375 \nL 310.076413 -37.834375 \nL 311.605879 -37.834375 \nL 313.135344 -37.834375 \nL 314.66481 -37.834375 \nL 316.194275 -37.834375 \nL 317.723741 -37.834375 \nL 319.253206 -37.834375 \nL 320.782672 -37.834375 \nL 322.312137 -37.834375 \nL 323.841603 -37.834375 \nL 325.371068 -37.834375 \nL 326.900534 -37.834375 \nL 328.429999 -37.834375 \nL 329.959465 -37.834375 \nL 331.48893 -37.834375 \nL 333.018396 -37.834375 \nL 334.547861 -37.834375 \nL 336.077327 -37.834375 \nL 337.606792 -37.834375 \nL 339.136258 -37.834375 \nL 340.665724 -37.834375 \nL 342.195189 -37.834375 \nL 343.724655 -37.834375 \nL 345.25412 -37.834375 \nL 346.783586 -37.834375 \nL 348.313051 -37.834375 \nL 349.842517 -37.834375 \nL 351.371982 -37.834375 \nL 352.901448 -37.834375 \nL 354.430913 -37.834375 \nL 355.960379 -37.834375 \nL 357.489844 -37.834375 \nL 359.01931 -37.834375 \nL 360.548775 -37.834375 \nL 362.078241 -37.834375 \nL 363.607706 -37.834375 \nL 365.137172 -37.834375 \nL 366.666637 -37.834375 \nL 368.196103 -37.834375 \nL 369.725568 -37.834375 \nL 369.725568 -37.918605 \nL 369.725568 -37.918605 \nL 368.196103 -37.998243 \nL 366.666637 -38.141891 \nL 365.137172 -38.391293 \nL 363.607706 -38.80821 \nL 362.078241 -39.479462 \nL 360.548775 -40.520738 \nL 359.01931 -42.077698 \nL 357.489844 -44.32289 \nL 355.960379 -47.447427 \nL 354.430913 -51.647342 \nL 352.901448 -57.10579 \nL 351.371982 -63.973543 \nL 349.842517 -72.350846 \nL 348.313051 -82.27345 \nL 346.783586 -93.704339 \nL 345.25412 -106.530849 \nL 343.724655 -120.565387 \nL 342.195189 -135.547526 \nL 340.665724 -151.146297 \nL 339.136258 -166.963589 \nL 337.606792 -182.541538 \nL 336.077327 -197.377574 \nL 334.547861 -210.949597 \nL 333.018396 -222.751 \nL 331.48893 -232.3319 \nL 329.959465 -239.340519 \nL 328.429999 -243.557872 \nL 326.900534 -244.920089 \nL 325.371068 -243.525028 \nL 323.841603 -239.622502 \nL 322.312137 -233.589882 \nL 320.782672 -225.896621 \nL 319.253206 -217.062413 \nL 317.723741 -207.614238 \nL 316.194275 -198.04721 \nL 314.66481 -188.792977 \nL 313.135344 -180.197645 \nL 311.605879 -172.509338 \nL 310.076413 -165.874316 \nL 308.546948 -160.340418 \nL 307.017482 -155.867286 \nL 305.488017 -152.343597 \nL 303.958551 -149.611589 \nL 302.429086 -147.497814 \nL 300.89962 -145.846521 \nL 299.370155 -144.549416 \nL 297.840689 -143.563914 \nL 296.311224 -142.91299 \nL 294.781758 -142.663568 \nL 293.252293 -142.886637 \nL 291.722827 -143.608909 \nL 290.193362 -144.770466 \nL 288.663896 -146.203056 \nL 287.134431 -147.638829 \nL 285.604965 -148.750306 \nL 284.0755 -149.212371 \nL 282.546034 -148.76972 \nL 281.016569 -147.291258 \nL 279.487103 -144.797226 \nL 277.957638 -141.453352 \nL 276.428172 -137.53587 \nL 274.898707 -133.378288 \nL 273.369241 -129.313493 \nL 271.839776 -125.623165 \nL 270.31031 -122.502268 \nL 268.780845 -120.041679 \nL 267.251379 -118.228316 \nL 265.721914 -116.959942 \nL 264.192448 -116.07074 \nL 262.662983 -115.36318 \nL 261.133517 -114.641271 \nL 259.604052 -113.740222 \nL 258.074586 -112.548134 \nL 256.54512 -111.016845 \nL 255.015655 -109.161352 \nL 253.486189 -107.049559 \nL 251.956724 -104.785793 \nL 250.427258 -102.492024 \nL 248.897793 -100.289942 \nL 247.368327 -98.285627 \nL 245.838862 -96.557256 \nL 244.309396 -95.145787 \nL 242.779931 -94.049083 \nL 241.250465 -93.220766 \nL 239.721 -92.575639 \nL 238.191534 -92.002732 \nL 236.662069 -91.385135 \nL 235.132603 -90.623296 \nL 233.603138 -89.656706 \nL 232.073672 -88.478735 \nL 230.544207 -87.141169 \nL 229.014741 -85.747869 \nL 227.485276 -84.439754 \nL 225.95581 -83.374793 \nL 224.426345 -82.70662 \nL 222.896879 -82.564237 \nL 221.367414 -83.034074 \nL 219.837948 -84.145327 \nL 218.308483 -85.860026 \nL 216.779017 -88.070117 \nL 215.249552 -90.604053 \nL 213.720086 -93.244177 \nL 212.190621 -95.753666 \nL 210.661155 -97.908846 \nL 209.13169 -99.530444 \nL 207.602224 -100.506966 \nL 206.072759 -100.805237 \nL 204.543293 -100.466599 \nL 203.013828 -99.591155 \nL 201.484362 -98.315295 \nL 199.954897 -96.788595 \nL 198.425431 -95.154981 \nL 196.895966 -93.540487 \nL 195.3665 -92.047304 \nL 193.837035 -90.75212 \nL 192.307569 -89.706436 \nL 190.778104 -88.937246 \nL 189.248638 -88.447463 \nL 187.719173 -88.216201 \nL 186.189707 -88.199288 \nL 184.660242 -88.330564 \nL 183.130776 -88.524851 \nL 181.601311 -88.683915 \nL 180.071845 -88.706723 \nL 178.54238 -88.504251 \nL 177.012914 -88.016971 \nL 175.483448 -87.230814 \nL 173.953983 -86.186095 \nL 172.424517 -84.974779 \nL 170.895052 -83.724619 \nL 169.365586 -82.573064 \nL 167.836121 -81.637577 \nL 166.306655 -80.990569 \nL 164.77719 -80.645797 \nL 163.247724 -80.559452 \nL 161.718259 -80.644576 \nL 160.188793 -80.793646 \nL 158.659328 -80.902243 \nL 157.129862 -80.887217 \nL 155.600397 -80.695265 \nL 154.070931 -80.30138 \nL 152.541466 -79.699989 \nL 151.012 -78.893579 \nL 149.482535 -77.883628 \nL 147.953069 -76.666848 \nL 146.423604 -75.237018 \nL 144.894138 -73.59036 \nL 143.364673 -71.731373 \nL 141.835207 -69.676617 \nL 140.305742 -67.455489 \nL 138.776276 -65.108569 \nL 137.246811 -62.684819 \nL 135.717345 -60.238636 \nL 134.18788 -57.826909 \nL 132.658414 -55.505653 \nL 131.128949 -53.325823 \nL 129.599483 -51.328625 \nL 128.070018 -49.541408 \nL 126.540552 -47.975557 \nL 125.011087 -46.627369 \nL 123.481621 -45.481887 \nL 121.952156 -44.518585 \nL 120.42269 -43.717117 \nL 118.893225 -43.061415 \nL 117.363759 -42.541092 \nL 115.834294 -42.15009 \nL 114.304828 -41.883424 \nL 112.775363 -41.733386 \nL 111.245897 -41.686582 \nL 109.716432 -41.722823 \nL 108.186966 -41.816232 \nL 106.657501 -41.938274 \nL 105.128035 -42.061881 \nL 103.59857 -42.165499 \nL 102.069104 -42.235907 \nL 100.539639 -42.268957 \nL 99.010173 -42.267971 \nL 97.480708 -42.240217 \nL 95.951242 -42.192515 \nL 94.421776 -42.127366 \nL 92.892311 -42.040864 \nL 91.362845 -41.923128 \nL 89.83338 -41.761161 \nL 88.303914 -41.543215 \nL 86.774449 -41.26323 \nL 85.244983 -40.923915 \nL 83.715518 -40.537489 \nL 82.186052 -40.123917 \nL 80.656587 -39.707257 \nL 79.127121 -39.311272 \nL 77.597656 -38.955512 \nL 76.06819 -38.652793 \nL 74.538725 -38.408426 \nL 73.009259 -38.221029 \nL 71.479794 -38.084346 \nL 69.950328 -37.989435 \nL 68.420863 -37.92664 \nL 66.891397 -37.887026 \nL 65.361932 -37.863184 \nz\n\" id=\"md60340e4e7\" style=\"stroke:#1f77b4;\"/>\n    </defs>\n    <g clip-path=\"url(#p716349ee77)\">\n     <use style=\"fill:#1f77b4;fill-opacity:0.25;stroke:#1f77b4;\" x=\"0\" xlink:href=\"#md60340e4e7\" y=\"262.474375\"/>\n    </g>\n   </g>\n   <g id=\"matplotlib.axis_1\">\n    <g id=\"xtick_1\">\n     <g id=\"line2d_1\">\n      <defs>\n       <path d=\"M 0 0 \nL 0 3.5 \n\" id=\"m7d89cf3637\" style=\"stroke:#000000;stroke-width:0.8;\"/>\n      </defs>\n      <g>\n       <use style=\"stroke:#000000;stroke-width:0.8;\" x=\"87.554104\" xlink:href=\"#m7d89cf3637\" y=\"224.64\"/>\n      </g>\n     </g>\n     <g id=\"text_1\">\n      <!-- 1960 -->\n      <g transform=\"translate(74.829104 239.238438)scale(0.1 -0.1)\">\n       <defs>\n        <path d=\"M 12.40625 8.296875 \nL 28.515625 8.296875 \nL 28.515625 63.921875 \nL 10.984375 60.40625 \nL 10.984375 69.390625 \nL 28.421875 72.90625 \nL 38.28125 72.90625 \nL 38.28125 8.296875 \nL 54.390625 8.296875 \nL 54.390625 0 \nL 12.40625 0 \nz\n\" id=\"DejaVuSans-49\"/>\n        <path d=\"M 10.984375 1.515625 \nL 10.984375 10.5 \nQ 14.703125 8.734375 18.5 7.8125 \nQ 22.3125 6.890625 25.984375 6.890625 \nQ 35.75 6.890625 40.890625 13.453125 \nQ 46.046875 20.015625 46.78125 33.40625 \nQ 43.953125 29.203125 39.59375 26.953125 \nQ 35.25 24.703125 29.984375 24.703125 \nQ 19.046875 24.703125 12.671875 31.3125 \nQ 6.296875 37.9375 6.296875 49.421875 \nQ 6.296875 60.640625 12.9375 67.421875 \nQ 19.578125 74.21875 30.609375 74.21875 \nQ 43.265625 74.21875 49.921875 64.515625 \nQ 56.59375 54.828125 56.59375 36.375 \nQ 56.59375 19.140625 48.40625 8.859375 \nQ 40.234375 -1.421875 26.421875 -1.421875 \nQ 22.703125 -1.421875 18.890625 -0.6875 \nQ 15.09375 0.046875 10.984375 1.515625 \nz\nM 30.609375 32.421875 \nQ 37.25 32.421875 41.125 36.953125 \nQ 45.015625 41.5 45.015625 49.421875 \nQ 45.015625 57.28125 41.125 61.84375 \nQ 37.25 66.40625 30.609375 66.40625 \nQ 23.96875 66.40625 20.09375 61.84375 \nQ 16.21875 57.28125 16.21875 49.421875 \nQ 16.21875 41.5 20.09375 36.953125 \nQ 23.96875 32.421875 30.609375 32.421875 \nz\n\" id=\"DejaVuSans-57\"/>\n        <path d=\"M 33.015625 40.375 \nQ 26.375 40.375 22.484375 35.828125 \nQ 18.609375 31.296875 18.609375 23.390625 \nQ 18.609375 15.53125 22.484375 10.953125 \nQ 26.375 6.390625 33.015625 6.390625 \nQ 39.65625 6.390625 43.53125 10.953125 \nQ 47.40625 15.53125 47.40625 23.390625 \nQ 47.40625 31.296875 43.53125 35.828125 \nQ 39.65625 40.375 33.015625 40.375 \nz\nM 52.59375 71.296875 \nL 52.59375 62.3125 \nQ 48.875 64.0625 45.09375 64.984375 \nQ 41.3125 65.921875 37.59375 65.921875 \nQ 27.828125 65.921875 22.671875 59.328125 \nQ 17.53125 52.734375 16.796875 39.40625 \nQ 19.671875 43.65625 24.015625 45.921875 \nQ 28.375 48.1875 33.59375 48.1875 \nQ 44.578125 48.1875 50.953125 41.515625 \nQ 57.328125 34.859375 57.328125 23.390625 \nQ 57.328125 12.15625 50.6875 5.359375 \nQ 44.046875 -1.421875 33.015625 -1.421875 \nQ 20.359375 -1.421875 13.671875 8.265625 \nQ 6.984375 17.96875 6.984375 36.375 \nQ 6.984375 53.65625 15.1875 63.9375 \nQ 23.390625 74.21875 37.203125 74.21875 \nQ 40.921875 74.21875 44.703125 73.484375 \nQ 48.484375 72.75 52.59375 71.296875 \nz\n\" id=\"DejaVuSans-54\"/>\n        <path d=\"M 31.78125 66.40625 \nQ 24.171875 66.40625 20.328125 58.90625 \nQ 16.5 51.421875 16.5 36.375 \nQ 16.5 21.390625 20.328125 13.890625 \nQ 24.171875 6.390625 31.78125 6.390625 \nQ 39.453125 6.390625 43.28125 13.890625 \nQ 47.125 21.390625 47.125 36.375 \nQ 47.125 51.421875 43.28125 58.90625 \nQ 39.453125 66.40625 31.78125 66.40625 \nz\nM 31.78125 74.21875 \nQ 44.046875 74.21875 50.515625 64.515625 \nQ 56.984375 54.828125 56.984375 36.375 \nQ 56.984375 17.96875 50.515625 8.265625 \nQ 44.046875 -1.421875 31.78125 -1.421875 \nQ 19.53125 -1.421875 13.0625 8.265625 \nQ 6.59375 17.96875 6.59375 36.375 \nQ 6.59375 54.828125 13.0625 64.515625 \nQ 19.53125 74.21875 31.78125 74.21875 \nz\n\" id=\"DejaVuSans-48\"/>\n       </defs>\n       <use xlink:href=\"#DejaVuSans-49\"/>\n       <use x=\"63.623047\" xlink:href=\"#DejaVuSans-57\"/>\n       <use x=\"127.246094\" xlink:href=\"#DejaVuSans-54\"/>\n       <use x=\"190.869141\" xlink:href=\"#DejaVuSans-48\"/>\n      </g>\n     </g>\n    </g>\n    <g id=\"xtick_2\">\n     <g id=\"line2d_2\">\n      <g>\n       <use style=\"stroke:#000000;stroke-width:0.8;\" x=\"136.606801\" xlink:href=\"#m7d89cf3637\" y=\"224.64\"/>\n      </g>\n     </g>\n     <g id=\"text_2\">\n      <!-- 1970 -->\n      <g transform=\"translate(123.881801 239.238438)scale(0.1 -0.1)\">\n       <defs>\n        <path d=\"M 8.203125 72.90625 \nL 55.078125 72.90625 \nL 55.078125 68.703125 \nL 28.609375 0 \nL 18.3125 0 \nL 43.21875 64.59375 \nL 8.203125 64.59375 \nz\n\" id=\"DejaVuSans-55\"/>\n       </defs>\n       <use xlink:href=\"#DejaVuSans-49\"/>\n       <use x=\"63.623047\" xlink:href=\"#DejaVuSans-57\"/>\n       <use x=\"127.246094\" xlink:href=\"#DejaVuSans-55\"/>\n       <use x=\"190.869141\" xlink:href=\"#DejaVuSans-48\"/>\n      </g>\n     </g>\n    </g>\n    <g id=\"xtick_3\">\n     <g id=\"line2d_3\">\n      <g>\n       <use style=\"stroke:#000000;stroke-width:0.8;\" x=\"185.659497\" xlink:href=\"#m7d89cf3637\" y=\"224.64\"/>\n      </g>\n     </g>\n     <g id=\"text_3\">\n      <!-- 1980 -->\n      <g transform=\"translate(172.934497 239.238438)scale(0.1 -0.1)\">\n       <defs>\n        <path d=\"M 31.78125 34.625 \nQ 24.75 34.625 20.71875 30.859375 \nQ 16.703125 27.09375 16.703125 20.515625 \nQ 16.703125 13.921875 20.71875 10.15625 \nQ 24.75 6.390625 31.78125 6.390625 \nQ 38.8125 6.390625 42.859375 10.171875 \nQ 46.921875 13.96875 46.921875 20.515625 \nQ 46.921875 27.09375 42.890625 30.859375 \nQ 38.875 34.625 31.78125 34.625 \nz\nM 21.921875 38.8125 \nQ 15.578125 40.375 12.03125 44.71875 \nQ 8.5 49.078125 8.5 55.328125 \nQ 8.5 64.0625 14.71875 69.140625 \nQ 20.953125 74.21875 31.78125 74.21875 \nQ 42.671875 74.21875 48.875 69.140625 \nQ 55.078125 64.0625 55.078125 55.328125 \nQ 55.078125 49.078125 51.53125 44.71875 \nQ 48 40.375 41.703125 38.8125 \nQ 48.828125 37.15625 52.796875 32.3125 \nQ 56.78125 27.484375 56.78125 20.515625 \nQ 56.78125 9.90625 50.3125 4.234375 \nQ 43.84375 -1.421875 31.78125 -1.421875 \nQ 19.734375 -1.421875 13.25 4.234375 \nQ 6.78125 9.90625 6.78125 20.515625 \nQ 6.78125 27.484375 10.78125 32.3125 \nQ 14.796875 37.15625 21.921875 38.8125 \nz\nM 18.3125 54.390625 \nQ 18.3125 48.734375 21.84375 45.5625 \nQ 25.390625 42.390625 31.78125 42.390625 \nQ 38.140625 42.390625 41.71875 45.5625 \nQ 45.3125 48.734375 45.3125 54.390625 \nQ 45.3125 60.0625 41.71875 63.234375 \nQ 38.140625 66.40625 31.78125 66.40625 \nQ 25.390625 66.40625 21.84375 63.234375 \nQ 18.3125 60.0625 18.3125 54.390625 \nz\n\" id=\"DejaVuSans-56\"/>\n       </defs>\n       <use xlink:href=\"#DejaVuSans-49\"/>\n       <use x=\"63.623047\" xlink:href=\"#DejaVuSans-57\"/>\n       <use x=\"127.246094\" xlink:href=\"#DejaVuSans-56\"/>\n       <use x=\"190.869141\" xlink:href=\"#DejaVuSans-48\"/>\n      </g>\n     </g>\n    </g>\n    <g id=\"xtick_4\">\n     <g id=\"line2d_4\">\n      <g>\n       <use style=\"stroke:#000000;stroke-width:0.8;\" x=\"234.712194\" xlink:href=\"#m7d89cf3637\" y=\"224.64\"/>\n      </g>\n     </g>\n     <g id=\"text_4\">\n      <!-- 1990 -->\n      <g transform=\"translate(221.987194 239.238438)scale(0.1 -0.1)\">\n       <use xlink:href=\"#DejaVuSans-49\"/>\n       <use x=\"63.623047\" xlink:href=\"#DejaVuSans-57\"/>\n       <use x=\"127.246094\" xlink:href=\"#DejaVuSans-57\"/>\n       <use x=\"190.869141\" xlink:href=\"#DejaVuSans-48\"/>\n      </g>\n     </g>\n    </g>\n    <g id=\"xtick_5\">\n     <g id=\"line2d_5\">\n      <g>\n       <use style=\"stroke:#000000;stroke-width:0.8;\" x=\"283.76489\" xlink:href=\"#m7d89cf3637\" y=\"224.64\"/>\n      </g>\n     </g>\n     <g id=\"text_5\">\n      <!-- 2000 -->\n      <g transform=\"translate(271.03989 239.238438)scale(0.1 -0.1)\">\n       <defs>\n        <path d=\"M 19.1875 8.296875 \nL 53.609375 8.296875 \nL 53.609375 0 \nL 7.328125 0 \nL 7.328125 8.296875 \nQ 12.9375 14.109375 22.625 23.890625 \nQ 32.328125 33.6875 34.8125 36.53125 \nQ 39.546875 41.84375 41.421875 45.53125 \nQ 43.3125 49.21875 43.3125 52.78125 \nQ 43.3125 58.59375 39.234375 62.25 \nQ 35.15625 65.921875 28.609375 65.921875 \nQ 23.96875 65.921875 18.8125 64.3125 \nQ 13.671875 62.703125 7.8125 59.421875 \nL 7.8125 69.390625 \nQ 13.765625 71.78125 18.9375 73 \nQ 24.125 74.21875 28.421875 74.21875 \nQ 39.75 74.21875 46.484375 68.546875 \nQ 53.21875 62.890625 53.21875 53.421875 \nQ 53.21875 48.921875 51.53125 44.890625 \nQ 49.859375 40.875 45.40625 35.40625 \nQ 44.1875 33.984375 37.640625 27.21875 \nQ 31.109375 20.453125 19.1875 8.296875 \nz\n\" id=\"DejaVuSans-50\"/>\n       </defs>\n       <use xlink:href=\"#DejaVuSans-50\"/>\n       <use x=\"63.623047\" xlink:href=\"#DejaVuSans-48\"/>\n       <use x=\"127.246094\" xlink:href=\"#DejaVuSans-48\"/>\n       <use x=\"190.869141\" xlink:href=\"#DejaVuSans-48\"/>\n      </g>\n     </g>\n    </g>\n    <g id=\"xtick_6\">\n     <g id=\"line2d_6\">\n      <g>\n       <use style=\"stroke:#000000;stroke-width:0.8;\" x=\"332.817587\" xlink:href=\"#m7d89cf3637\" y=\"224.64\"/>\n      </g>\n     </g>\n     <g id=\"text_6\">\n      <!-- 2010 -->\n      <g transform=\"translate(320.092587 239.238438)scale(0.1 -0.1)\">\n       <use xlink:href=\"#DejaVuSans-50\"/>\n       <use x=\"63.623047\" xlink:href=\"#DejaVuSans-48\"/>\n       <use x=\"127.246094\" xlink:href=\"#DejaVuSans-49\"/>\n       <use x=\"190.869141\" xlink:href=\"#DejaVuSans-48\"/>\n      </g>\n     </g>\n    </g>\n    <g id=\"xtick_7\">\n     <g id=\"line2d_7\">\n      <g>\n       <use style=\"stroke:#000000;stroke-width:0.8;\" x=\"381.870283\" xlink:href=\"#m7d89cf3637\" y=\"224.64\"/>\n      </g>\n     </g>\n     <g id=\"text_7\">\n      <!-- 2020 -->\n      <g transform=\"translate(369.145283 239.238438)scale(0.1 -0.1)\">\n       <use xlink:href=\"#DejaVuSans-50\"/>\n       <use x=\"63.623047\" xlink:href=\"#DejaVuSans-48\"/>\n       <use x=\"127.246094\" xlink:href=\"#DejaVuSans-50\"/>\n       <use x=\"190.869141\" xlink:href=\"#DejaVuSans-48\"/>\n      </g>\n     </g>\n    </g>\n    <g id=\"text_8\">\n     <!-- construction_year -->\n     <g transform=\"translate(172.795313 252.916562)scale(0.1 -0.1)\">\n      <defs>\n       <path d=\"M 48.78125 52.59375 \nL 48.78125 44.1875 \nQ 44.96875 46.296875 41.140625 47.34375 \nQ 37.3125 48.390625 33.40625 48.390625 \nQ 24.65625 48.390625 19.8125 42.84375 \nQ 14.984375 37.3125 14.984375 27.296875 \nQ 14.984375 17.28125 19.8125 11.734375 \nQ 24.65625 6.203125 33.40625 6.203125 \nQ 37.3125 6.203125 41.140625 7.25 \nQ 44.96875 8.296875 48.78125 10.40625 \nL 48.78125 2.09375 \nQ 45.015625 0.34375 40.984375 -0.53125 \nQ 36.96875 -1.421875 32.421875 -1.421875 \nQ 20.0625 -1.421875 12.78125 6.34375 \nQ 5.515625 14.109375 5.515625 27.296875 \nQ 5.515625 40.671875 12.859375 48.328125 \nQ 20.21875 56 33.015625 56 \nQ 37.15625 56 41.109375 55.140625 \nQ 45.0625 54.296875 48.78125 52.59375 \nz\n\" id=\"DejaVuSans-99\"/>\n       <path d=\"M 30.609375 48.390625 \nQ 23.390625 48.390625 19.1875 42.75 \nQ 14.984375 37.109375 14.984375 27.296875 \nQ 14.984375 17.484375 19.15625 11.84375 \nQ 23.34375 6.203125 30.609375 6.203125 \nQ 37.796875 6.203125 41.984375 11.859375 \nQ 46.1875 17.53125 46.1875 27.296875 \nQ 46.1875 37.015625 41.984375 42.703125 \nQ 37.796875 48.390625 30.609375 48.390625 \nz\nM 30.609375 56 \nQ 42.328125 56 49.015625 48.375 \nQ 55.71875 40.765625 55.71875 27.296875 \nQ 55.71875 13.875 49.015625 6.21875 \nQ 42.328125 -1.421875 30.609375 -1.421875 \nQ 18.84375 -1.421875 12.171875 6.21875 \nQ 5.515625 13.875 5.515625 27.296875 \nQ 5.515625 40.765625 12.171875 48.375 \nQ 18.84375 56 30.609375 56 \nz\n\" id=\"DejaVuSans-111\"/>\n       <path d=\"M 54.890625 33.015625 \nL 54.890625 0 \nL 45.90625 0 \nL 45.90625 32.71875 \nQ 45.90625 40.484375 42.875 44.328125 \nQ 39.84375 48.1875 33.796875 48.1875 \nQ 26.515625 48.1875 22.3125 43.546875 \nQ 18.109375 38.921875 18.109375 30.90625 \nL 18.109375 0 \nL 9.078125 0 \nL 9.078125 54.6875 \nL 18.109375 54.6875 \nL 18.109375 46.1875 \nQ 21.34375 51.125 25.703125 53.5625 \nQ 30.078125 56 35.796875 56 \nQ 45.21875 56 50.046875 50.171875 \nQ 54.890625 44.34375 54.890625 33.015625 \nz\n\" id=\"DejaVuSans-110\"/>\n       <path d=\"M 44.28125 53.078125 \nL 44.28125 44.578125 \nQ 40.484375 46.53125 36.375 47.5 \nQ 32.28125 48.484375 27.875 48.484375 \nQ 21.1875 48.484375 17.84375 46.4375 \nQ 14.5 44.390625 14.5 40.28125 \nQ 14.5 37.15625 16.890625 35.375 \nQ 19.28125 33.59375 26.515625 31.984375 \nL 29.59375 31.296875 \nQ 39.15625 29.25 43.1875 25.515625 \nQ 47.21875 21.78125 47.21875 15.09375 \nQ 47.21875 7.46875 41.1875 3.015625 \nQ 35.15625 -1.421875 24.609375 -1.421875 \nQ 20.21875 -1.421875 15.453125 -0.5625 \nQ 10.6875 0.296875 5.421875 2 \nL 5.421875 11.28125 \nQ 10.40625 8.6875 15.234375 7.390625 \nQ 20.0625 6.109375 24.8125 6.109375 \nQ 31.15625 6.109375 34.5625 8.28125 \nQ 37.984375 10.453125 37.984375 14.40625 \nQ 37.984375 18.0625 35.515625 20.015625 \nQ 33.0625 21.96875 24.703125 23.78125 \nL 21.578125 24.515625 \nQ 13.234375 26.265625 9.515625 29.90625 \nQ 5.8125 33.546875 5.8125 39.890625 \nQ 5.8125 47.609375 11.28125 51.796875 \nQ 16.75 56 26.8125 56 \nQ 31.78125 56 36.171875 55.265625 \nQ 40.578125 54.546875 44.28125 53.078125 \nz\n\" id=\"DejaVuSans-115\"/>\n       <path d=\"M 18.3125 70.21875 \nL 18.3125 54.6875 \nL 36.8125 54.6875 \nL 36.8125 47.703125 \nL 18.3125 47.703125 \nL 18.3125 18.015625 \nQ 18.3125 11.328125 20.140625 9.421875 \nQ 21.96875 7.515625 27.59375 7.515625 \nL 36.8125 7.515625 \nL 36.8125 0 \nL 27.59375 0 \nQ 17.1875 0 13.234375 3.875 \nQ 9.28125 7.765625 9.28125 18.015625 \nL 9.28125 47.703125 \nL 2.6875 47.703125 \nL 2.6875 54.6875 \nL 9.28125 54.6875 \nL 9.28125 70.21875 \nz\n\" id=\"DejaVuSans-116\"/>\n       <path d=\"M 41.109375 46.296875 \nQ 39.59375 47.171875 37.8125 47.578125 \nQ 36.03125 48 33.890625 48 \nQ 26.265625 48 22.1875 43.046875 \nQ 18.109375 38.09375 18.109375 28.8125 \nL 18.109375 0 \nL 9.078125 0 \nL 9.078125 54.6875 \nL 18.109375 54.6875 \nL 18.109375 46.1875 \nQ 20.953125 51.171875 25.484375 53.578125 \nQ 30.03125 56 36.53125 56 \nQ 37.453125 56 38.578125 55.875 \nQ 39.703125 55.765625 41.0625 55.515625 \nz\n\" id=\"DejaVuSans-114\"/>\n       <path d=\"M 8.5 21.578125 \nL 8.5 54.6875 \nL 17.484375 54.6875 \nL 17.484375 21.921875 \nQ 17.484375 14.15625 20.5 10.265625 \nQ 23.53125 6.390625 29.59375 6.390625 \nQ 36.859375 6.390625 41.078125 11.03125 \nQ 45.3125 15.671875 45.3125 23.6875 \nL 45.3125 54.6875 \nL 54.296875 54.6875 \nL 54.296875 0 \nL 45.3125 0 \nL 45.3125 8.40625 \nQ 42.046875 3.421875 37.71875 1 \nQ 33.40625 -1.421875 27.6875 -1.421875 \nQ 18.265625 -1.421875 13.375 4.4375 \nQ 8.5 10.296875 8.5 21.578125 \nz\nM 31.109375 56 \nz\n\" id=\"DejaVuSans-117\"/>\n       <path d=\"M 9.421875 54.6875 \nL 18.40625 54.6875 \nL 18.40625 0 \nL 9.421875 0 \nz\nM 9.421875 75.984375 \nL 18.40625 75.984375 \nL 18.40625 64.59375 \nL 9.421875 64.59375 \nz\n\" id=\"DejaVuSans-105\"/>\n       <path d=\"M 50.984375 -16.609375 \nL 50.984375 -23.578125 \nL -0.984375 -23.578125 \nL -0.984375 -16.609375 \nz\n\" id=\"DejaVuSans-95\"/>\n       <path d=\"M 32.171875 -5.078125 \nQ 28.375 -14.84375 24.75 -17.8125 \nQ 21.140625 -20.796875 15.09375 -20.796875 \nL 7.90625 -20.796875 \nL 7.90625 -13.28125 \nL 13.1875 -13.28125 \nQ 16.890625 -13.28125 18.9375 -11.515625 \nQ 21 -9.765625 23.484375 -3.21875 \nL 25.09375 0.875 \nL 2.984375 54.6875 \nL 12.5 54.6875 \nL 29.59375 11.921875 \nL 46.6875 54.6875 \nL 56.203125 54.6875 \nz\n\" id=\"DejaVuSans-121\"/>\n       <path d=\"M 56.203125 29.59375 \nL 56.203125 25.203125 \nL 14.890625 25.203125 \nQ 15.484375 15.921875 20.484375 11.0625 \nQ 25.484375 6.203125 34.421875 6.203125 \nQ 39.59375 6.203125 44.453125 7.46875 \nQ 49.3125 8.734375 54.109375 11.28125 \nL 54.109375 2.78125 \nQ 49.265625 0.734375 44.1875 -0.34375 \nQ 39.109375 -1.421875 33.890625 -1.421875 \nQ 20.796875 -1.421875 13.15625 6.1875 \nQ 5.515625 13.8125 5.515625 26.8125 \nQ 5.515625 40.234375 12.765625 48.109375 \nQ 20.015625 56 32.328125 56 \nQ 43.359375 56 49.78125 48.890625 \nQ 56.203125 41.796875 56.203125 29.59375 \nz\nM 47.21875 32.234375 \nQ 47.125 39.59375 43.09375 43.984375 \nQ 39.0625 48.390625 32.421875 48.390625 \nQ 24.90625 48.390625 20.390625 44.140625 \nQ 15.875 39.890625 15.1875 32.171875 \nz\n\" id=\"DejaVuSans-101\"/>\n       <path d=\"M 34.28125 27.484375 \nQ 23.390625 27.484375 19.1875 25 \nQ 14.984375 22.515625 14.984375 16.5 \nQ 14.984375 11.71875 18.140625 8.90625 \nQ 21.296875 6.109375 26.703125 6.109375 \nQ 34.1875 6.109375 38.703125 11.40625 \nQ 43.21875 16.703125 43.21875 25.484375 \nL 43.21875 27.484375 \nz\nM 52.203125 31.203125 \nL 52.203125 0 \nL 43.21875 0 \nL 43.21875 8.296875 \nQ 40.140625 3.328125 35.546875 0.953125 \nQ 30.953125 -1.421875 24.3125 -1.421875 \nQ 15.921875 -1.421875 10.953125 3.296875 \nQ 6 8.015625 6 15.921875 \nQ 6 25.140625 12.171875 29.828125 \nQ 18.359375 34.515625 30.609375 34.515625 \nL 43.21875 34.515625 \nL 43.21875 35.40625 \nQ 43.21875 41.609375 39.140625 45 \nQ 35.0625 48.390625 27.6875 48.390625 \nQ 23 48.390625 18.546875 47.265625 \nQ 14.109375 46.140625 10.015625 43.890625 \nL 10.015625 52.203125 \nQ 14.9375 54.109375 19.578125 55.046875 \nQ 24.21875 56 28.609375 56 \nQ 40.484375 56 46.34375 49.84375 \nQ 52.203125 43.703125 52.203125 31.203125 \nz\n\" id=\"DejaVuSans-97\"/>\n      </defs>\n      <use xlink:href=\"#DejaVuSans-99\"/>\n      <use x=\"54.980469\" xlink:href=\"#DejaVuSans-111\"/>\n      <use x=\"116.162109\" xlink:href=\"#DejaVuSans-110\"/>\n      <use x=\"179.541016\" xlink:href=\"#DejaVuSans-115\"/>\n      <use x=\"231.640625\" xlink:href=\"#DejaVuSans-116\"/>\n      <use x=\"270.849609\" xlink:href=\"#DejaVuSans-114\"/>\n      <use x=\"311.962891\" xlink:href=\"#DejaVuSans-117\"/>\n      <use x=\"375.341797\" xlink:href=\"#DejaVuSans-99\"/>\n      <use x=\"430.322266\" xlink:href=\"#DejaVuSans-116\"/>\n      <use x=\"469.53125\" xlink:href=\"#DejaVuSans-105\"/>\n      <use x=\"497.314453\" xlink:href=\"#DejaVuSans-111\"/>\n      <use x=\"558.496094\" xlink:href=\"#DejaVuSans-110\"/>\n      <use x=\"621.875\" xlink:href=\"#DejaVuSans-95\"/>\n      <use x=\"671.875\" xlink:href=\"#DejaVuSans-121\"/>\n      <use x=\"731.054688\" xlink:href=\"#DejaVuSans-101\"/>\n      <use x=\"792.578125\" xlink:href=\"#DejaVuSans-97\"/>\n      <use x=\"853.857422\" xlink:href=\"#DejaVuSans-114\"/>\n     </g>\n    </g>\n   </g>\n   <g id=\"matplotlib.axis_2\">\n    <g id=\"ytick_1\">\n     <g id=\"line2d_8\">\n      <defs>\n       <path d=\"M 0 0 \nL -3.5 0 \n\" id=\"m38d3b9864a\" style=\"stroke:#000000;stroke-width:0.8;\"/>\n      </defs>\n      <g>\n       <use style=\"stroke:#000000;stroke-width:0.8;\" x=\"50.14375\" xlink:href=\"#m38d3b9864a\" y=\"224.64\"/>\n      </g>\n     </g>\n     <g id=\"text_9\">\n      <!-- 0.00 -->\n      <g transform=\"translate(20.878125 228.439219)scale(0.1 -0.1)\">\n       <defs>\n        <path d=\"M 10.6875 12.40625 \nL 21 12.40625 \nL 21 0 \nL 10.6875 0 \nz\n\" id=\"DejaVuSans-46\"/>\n       </defs>\n       <use xlink:href=\"#DejaVuSans-48\"/>\n       <use x=\"63.623047\" xlink:href=\"#DejaVuSans-46\"/>\n       <use x=\"95.410156\" xlink:href=\"#DejaVuSans-48\"/>\n       <use x=\"159.033203\" xlink:href=\"#DejaVuSans-48\"/>\n      </g>\n     </g>\n    </g>\n    <g id=\"ytick_2\">\n     <g id=\"line2d_9\">\n      <g>\n       <use style=\"stroke:#000000;stroke-width:0.8;\" x=\"50.14375\" xlink:href=\"#m38d3b9864a\" y=\"188.368248\"/>\n      </g>\n     </g>\n     <g id=\"text_10\">\n      <!-- 0.01 -->\n      <g transform=\"translate(20.878125 192.167467)scale(0.1 -0.1)\">\n       <use xlink:href=\"#DejaVuSans-48\"/>\n       <use x=\"63.623047\" xlink:href=\"#DejaVuSans-46\"/>\n       <use x=\"95.410156\" xlink:href=\"#DejaVuSans-48\"/>\n       <use x=\"159.033203\" xlink:href=\"#DejaVuSans-49\"/>\n      </g>\n     </g>\n    </g>\n    <g id=\"ytick_3\">\n     <g id=\"line2d_10\">\n      <g>\n       <use style=\"stroke:#000000;stroke-width:0.8;\" x=\"50.14375\" xlink:href=\"#m38d3b9864a\" y=\"152.096496\"/>\n      </g>\n     </g>\n     <g id=\"text_11\">\n      <!-- 0.02 -->\n      <g transform=\"translate(20.878125 155.895714)scale(0.1 -0.1)\">\n       <use xlink:href=\"#DejaVuSans-48\"/>\n       <use x=\"63.623047\" xlink:href=\"#DejaVuSans-46\"/>\n       <use x=\"95.410156\" xlink:href=\"#DejaVuSans-48\"/>\n       <use x=\"159.033203\" xlink:href=\"#DejaVuSans-50\"/>\n      </g>\n     </g>\n    </g>\n    <g id=\"ytick_4\">\n     <g id=\"line2d_11\">\n      <g>\n       <use style=\"stroke:#000000;stroke-width:0.8;\" x=\"50.14375\" xlink:href=\"#m38d3b9864a\" y=\"115.824743\"/>\n      </g>\n     </g>\n     <g id=\"text_12\">\n      <!-- 0.03 -->\n      <g transform=\"translate(20.878125 119.623962)scale(0.1 -0.1)\">\n       <defs>\n        <path d=\"M 40.578125 39.3125 \nQ 47.65625 37.796875 51.625 33 \nQ 55.609375 28.21875 55.609375 21.1875 \nQ 55.609375 10.40625 48.1875 4.484375 \nQ 40.765625 -1.421875 27.09375 -1.421875 \nQ 22.515625 -1.421875 17.65625 -0.515625 \nQ 12.796875 0.390625 7.625 2.203125 \nL 7.625 11.71875 \nQ 11.71875 9.328125 16.59375 8.109375 \nQ 21.484375 6.890625 26.8125 6.890625 \nQ 36.078125 6.890625 40.9375 10.546875 \nQ 45.796875 14.203125 45.796875 21.1875 \nQ 45.796875 27.640625 41.28125 31.265625 \nQ 36.765625 34.90625 28.71875 34.90625 \nL 20.21875 34.90625 \nL 20.21875 43.015625 \nL 29.109375 43.015625 \nQ 36.375 43.015625 40.234375 45.921875 \nQ 44.09375 48.828125 44.09375 54.296875 \nQ 44.09375 59.90625 40.109375 62.90625 \nQ 36.140625 65.921875 28.71875 65.921875 \nQ 24.65625 65.921875 20.015625 65.03125 \nQ 15.375 64.15625 9.8125 62.3125 \nL 9.8125 71.09375 \nQ 15.4375 72.65625 20.34375 73.4375 \nQ 25.25 74.21875 29.59375 74.21875 \nQ 40.828125 74.21875 47.359375 69.109375 \nQ 53.90625 64.015625 53.90625 55.328125 \nQ 53.90625 49.265625 50.4375 45.09375 \nQ 46.96875 40.921875 40.578125 39.3125 \nz\n\" id=\"DejaVuSans-51\"/>\n       </defs>\n       <use xlink:href=\"#DejaVuSans-48\"/>\n       <use x=\"63.623047\" xlink:href=\"#DejaVuSans-46\"/>\n       <use x=\"95.410156\" xlink:href=\"#DejaVuSans-48\"/>\n       <use x=\"159.033203\" xlink:href=\"#DejaVuSans-51\"/>\n      </g>\n     </g>\n    </g>\n    <g id=\"ytick_5\">\n     <g id=\"line2d_12\">\n      <g>\n       <use style=\"stroke:#000000;stroke-width:0.8;\" x=\"50.14375\" xlink:href=\"#m38d3b9864a\" y=\"79.552991\"/>\n      </g>\n     </g>\n     <g id=\"text_13\">\n      <!-- 0.04 -->\n      <g transform=\"translate(20.878125 83.35221)scale(0.1 -0.1)\">\n       <defs>\n        <path d=\"M 37.796875 64.3125 \nL 12.890625 25.390625 \nL 37.796875 25.390625 \nz\nM 35.203125 72.90625 \nL 47.609375 72.90625 \nL 47.609375 25.390625 \nL 58.015625 25.390625 \nL 58.015625 17.1875 \nL 47.609375 17.1875 \nL 47.609375 0 \nL 37.796875 0 \nL 37.796875 17.1875 \nL 4.890625 17.1875 \nL 4.890625 26.703125 \nz\n\" id=\"DejaVuSans-52\"/>\n       </defs>\n       <use xlink:href=\"#DejaVuSans-48\"/>\n       <use x=\"63.623047\" xlink:href=\"#DejaVuSans-46\"/>\n       <use x=\"95.410156\" xlink:href=\"#DejaVuSans-48\"/>\n       <use x=\"159.033203\" xlink:href=\"#DejaVuSans-52\"/>\n      </g>\n     </g>\n    </g>\n    <g id=\"ytick_6\">\n     <g id=\"line2d_13\">\n      <g>\n       <use style=\"stroke:#000000;stroke-width:0.8;\" x=\"50.14375\" xlink:href=\"#m38d3b9864a\" y=\"43.281239\"/>\n      </g>\n     </g>\n     <g id=\"text_14\">\n      <!-- 0.05 -->\n      <g transform=\"translate(20.878125 47.080458)scale(0.1 -0.1)\">\n       <defs>\n        <path d=\"M 10.796875 72.90625 \nL 49.515625 72.90625 \nL 49.515625 64.59375 \nL 19.828125 64.59375 \nL 19.828125 46.734375 \nQ 21.96875 47.46875 24.109375 47.828125 \nQ 26.265625 48.1875 28.421875 48.1875 \nQ 40.625 48.1875 47.75 41.5 \nQ 54.890625 34.8125 54.890625 23.390625 \nQ 54.890625 11.625 47.5625 5.09375 \nQ 40.234375 -1.421875 26.90625 -1.421875 \nQ 22.3125 -1.421875 17.546875 -0.640625 \nQ 12.796875 0.140625 7.71875 1.703125 \nL 7.71875 11.625 \nQ 12.109375 9.234375 16.796875 8.0625 \nQ 21.484375 6.890625 26.703125 6.890625 \nQ 35.15625 6.890625 40.078125 11.328125 \nQ 45.015625 15.765625 45.015625 23.390625 \nQ 45.015625 31 40.078125 35.4375 \nQ 35.15625 39.890625 26.703125 39.890625 \nQ 22.75 39.890625 18.8125 39.015625 \nQ 14.890625 38.140625 10.796875 36.28125 \nz\n\" id=\"DejaVuSans-53\"/>\n       </defs>\n       <use xlink:href=\"#DejaVuSans-48\"/>\n       <use x=\"63.623047\" xlink:href=\"#DejaVuSans-46\"/>\n       <use x=\"95.410156\" xlink:href=\"#DejaVuSans-48\"/>\n       <use x=\"159.033203\" xlink:href=\"#DejaVuSans-53\"/>\n      </g>\n     </g>\n    </g>\n    <g id=\"text_15\">\n     <!-- Density -->\n     <g transform=\"translate(14.798438 134.928594)rotate(-90)scale(0.1 -0.1)\">\n      <defs>\n       <path d=\"M 19.671875 64.796875 \nL 19.671875 8.109375 \nL 31.59375 8.109375 \nQ 46.6875 8.109375 53.6875 14.9375 \nQ 60.6875 21.78125 60.6875 36.53125 \nQ 60.6875 51.171875 53.6875 57.984375 \nQ 46.6875 64.796875 31.59375 64.796875 \nz\nM 9.8125 72.90625 \nL 30.078125 72.90625 \nQ 51.265625 72.90625 61.171875 64.09375 \nQ 71.09375 55.28125 71.09375 36.53125 \nQ 71.09375 17.671875 61.125 8.828125 \nQ 51.171875 0 30.078125 0 \nL 9.8125 0 \nz\n\" id=\"DejaVuSans-68\"/>\n      </defs>\n      <use xlink:href=\"#DejaVuSans-68\"/>\n      <use x=\"77.001953\" xlink:href=\"#DejaVuSans-101\"/>\n      <use x=\"138.525391\" xlink:href=\"#DejaVuSans-110\"/>\n      <use x=\"201.904297\" xlink:href=\"#DejaVuSans-115\"/>\n      <use x=\"254.003906\" xlink:href=\"#DejaVuSans-105\"/>\n      <use x=\"281.787109\" xlink:href=\"#DejaVuSans-116\"/>\n      <use x=\"320.996094\" xlink:href=\"#DejaVuSans-121\"/>\n     </g>\n    </g>\n   </g>\n   <g id=\"patch_3\">\n    <path d=\"M 50.14375 224.64 \nL 50.14375 7.2 \n\" style=\"fill:none;stroke:#000000;stroke-linecap:square;stroke-linejoin:miter;stroke-width:0.8;\"/>\n   </g>\n   <g id=\"patch_4\">\n    <path d=\"M 384.94375 224.64 \nL 384.94375 7.2 \n\" style=\"fill:none;stroke:#000000;stroke-linecap:square;stroke-linejoin:miter;stroke-width:0.8;\"/>\n   </g>\n   <g id=\"patch_5\">\n    <path d=\"M 50.14375 224.64 \nL 384.94375 224.64 \n\" style=\"fill:none;stroke:#000000;stroke-linecap:square;stroke-linejoin:miter;stroke-width:0.8;\"/>\n   </g>\n   <g id=\"patch_6\">\n    <path d=\"M 50.14375 7.2 \nL 384.94375 7.2 \n\" style=\"fill:none;stroke:#000000;stroke-linecap:square;stroke-linejoin:miter;stroke-width:0.8;\"/>\n   </g>\n  </g>\n </g>\n <defs>\n  <clipPath id=\"p716349ee77\">\n   <rect height=\"217.44\" width=\"334.8\" x=\"50.14375\" y=\"7.2\"/>\n  </clipPath>\n </defs>\n</svg>\n",
      "image/png": "[encoded data removed]"
     },
     "metadata": {
      "needs_background": "light"
     }
    }
   ],
   "source": [
    "plt.figure()\n",
    "col = \"construction_year\"\n",
    "sns.kdeplot(data=df_exp[(df_exp[col] > 0)], x=col, fill=True)"
   ]
  },
  {
   "source": [
    "Construction_year : There is 35% of missing value, these values will be replace by the median (the distribution is skewed). The value will used to calculate the age the pump"
   ],
   "cell_type": "markdown",
   "metadata": {}
  },
  {
   "cell_type": "code",
   "execution_count": 18,
   "metadata": {},
   "outputs": [
    {
     "output_type": "execute_result",
     "data": {
      "text/plain": [
       "1     12203\n",
       "2     11173\n",
       "3      9998\n",
       "4      8999\n",
       "5      4356\n",
       "6      4074\n",
       "7      3343\n",
       "8      1043\n",
       "30      995\n",
       "33      874\n",
       "53      745\n",
       "43      505\n",
       "13      391\n",
       "23      293\n",
       "63      195\n",
       "62      109\n",
       "60       63\n",
       "0        23\n",
       "80       12\n",
       "67        6\n",
       "Name: district_code, dtype: int64"
      ]
     },
     "metadata": {},
     "execution_count": 18
    }
   ],
   "source": [
    "df_exp[\"district_code\"].value_counts()"
   ]
  },
  {
   "source": [
    "district_code : There is 23 missing values, these values will be replace by the most frequent value (categorical data )"
   ],
   "cell_type": "markdown",
   "metadata": {}
  },
  {
   "source": [
    "### c. Qualitative values\n"
   ],
   "cell_type": "markdown",
   "metadata": {}
  },
  {
   "cell_type": "code",
   "execution_count": 19,
   "metadata": {},
   "outputs": [
    {
     "output_type": "stream",
     "name": "stdout",
     "text": [
      "funder\n['Roman' 'Grumeti' 'Lottery Club' ... 'Dina' 'Brown' 'Samlo']\n--------------------------------------------------\nlga\n['Ludewa' 'Serengeti' 'Simanjiro' 'Nanyumbu' 'Karagwe' 'Mkinga'\n 'Shinyanga Rural' 'Kahama' 'Tabora Urban' 'Mkuranga' 'Namtumbo' 'Maswa'\n 'Siha' 'Meatu' 'Sumbawanga Rural' 'Njombe' 'Ukerewe' 'Bariadi' 'Same'\n 'Kigoma Rural' 'Moshi Rural' 'Lindi Rural' 'Rombo' 'Chamwino' 'Bagamoyo'\n 'Mafia' 'Arusha Rural' 'Kyela' 'Kondoa' 'Kilolo' 'Kibondo' 'Makete'\n 'Singida Rural' 'Masasi' 'Rungwe' 'Moshi Urban' 'Geita' 'Mbulu'\n 'Bukoba Rural' 'Muheza' 'Lushoto' 'Meru' 'Iramba' 'Kilombero' 'Mbarali'\n 'Kasulu' 'Bukoba Urban' 'Korogwe' 'Bukombe' 'Morogoro Rural' 'Kishapu'\n 'Musoma Rural' 'Sengerema' 'Iringa Rural' 'Muleba' 'Dodoma Urban'\n 'Ruangwa' 'Hanang' 'Misenyi' 'Missungwi' 'Songea Rural' 'Tanga' 'Tunduru'\n 'Hai' 'Mwanga' 'Chato' 'Biharamulo' 'Ileje' 'Mpwapwa' 'Mvomero' 'Bunda'\n 'Kiteto' 'Longido' 'Urambo' 'Mbozi' 'Sikonge' 'Ilala' 'Tarime' 'Temeke'\n 'Mbeya Rural' 'Magu' 'Manyoni' 'Igunga' 'Kilosa' 'Babati' 'Chunya'\n 'Mufindi' 'Mtwara Rural' 'Ngara' 'Karatu' 'Mpanda' 'Kibaha'\n 'Singida Urban' 'Newala' 'Nzega' 'Nkasi' 'Bahi' 'Mbinga' 'Ulanga'\n 'Sumbawanga Urban' 'Morogoro Urban' 'Tandahimba' 'Kisarawe'\n 'Mtwara Urban' 'Kilwa' 'Liwale' 'Kongwa' 'Uyui' 'Rufiji' 'Kwimba'\n 'Monduli' 'Shinyanga Urban' 'Ngorongoro' 'Handeni' 'Rorya' 'Pangani'\n 'Lindi Urban' 'Nachingwea' 'Kinondoni' 'Kigoma Urban' 'Ilemela' 'Kilindi'\n 'Arusha Urban' 'Songea Urban' 'Nyamagana']\n--------------------------------------------------\nward\n['Mundindi' 'Natta' 'Ngorika' ... 'Chinugulu' 'Nyamtinga' 'Kinungu']\n--------------------------------------------------\ndate_recorded\n['2011-03-14' '2013-03-06' '2013-02-25' '2013-01-28' '2011-07-13'\n '2011-03-13' '2012-10-01' '2012-10-09' '2012-11-03' '2011-08-03'\n '2011-02-20' '2013-02-18' '2012-10-14' '2013-03-15' '2012-10-20'\n '2011-08-04' '2011-07-04' '2011-09-04' '2011-07-22' '2011-02-22'\n '2011-02-27' '2013-02-10' '2011-10-04' '2013-11-03' '2013-01-21'\n '2013-01-16' '2011-07-11' '2013-03-05' '2013-03-16' '2011-03-23'\n '2011-03-16' '2013-03-19' '2011-03-11' '2011-02-23' '2013-03-28'\n '2011-07-16' '2011-03-27' '2013-02-11' '2013-10-03' '2011-03-12'\n '2011-07-07' '2013-01-15' '2013-03-18' '2012-10-22' '2013-02-05'\n '2011-07-27' '2011-04-04' '2013-02-21' '2011-08-18' '2011-07-31'\n '2011-08-01' '2011-07-14' '2013-02-22' '2013-07-03' '2013-08-03'\n '2013-01-22' '2011-03-22' '2013-05-03' '2013-01-19' '2013-02-09'\n '2011-01-04' '2013-02-04' '2011-03-05' '2011-03-31' '2013-02-27'\n '2011-08-07' '2011-03-30' '2012-10-23' '2011-03-02' '2011-03-04'\n '2013-03-14' '2012-10-18' '2011-08-08' '2011-09-05' '2011-04-11'\n '2013-01-17' '2013-01-20' '2013-01-27' '2013-02-19' '2012-10-06'\n '2013-02-13' '2013-02-26' '2013-02-16' '2013-02-17' '2011-07-21'\n '2011-03-07' '2011-07-12' '2011-07-17' '2011-04-07' '2011-04-10'\n '2012-10-29' '2011-02-25' '2012-10-11' '2013-02-14' '2012-10-05'\n '2011-07-19' '2011-04-15' '2011-03-17' '2013-01-25' '2011-10-07'\n '2011-02-24' '2013-03-21' '2011-08-02' '2011-02-03' '2013-01-24'\n '2012-10-21' '2011-04-16' '2013-02-03' '2013-02-24' '2011-04-02'\n '2012-10-19' '2013-01-30' '2011-03-03' '2011-08-17' '2011-03-28'\n '2011-07-23' '2013-02-06' '2011-08-11' '2011-03-09' '2011-03-18'\n '2013-03-07' '2011-08-14' '2013-09-03' '2011-02-16' '2011-04-03'\n '2011-07-09' '2011-04-12' '2011-04-14' '2011-03-10' '2013-03-25'\n '2013-02-28' '2013-01-18' '2012-10-10' '2011-07-03' '2011-08-05'\n '2011-07-20' '2013-03-13' '2011-03-15' '2011-07-18' '2013-03-03'\n '2011-11-07' '2013-04-04' '2012-10-16' '2013-03-23' '2013-04-03'\n '2013-02-08' '2011-03-21' '2011-04-05' '2012-10-15' '2011-03-19'\n '2013-06-03' '2013-03-29' '2012-10-28' '2011-07-15' '2012-10-12'\n '2011-07-29' '2011-08-06' '2012-10-13' '2013-03-02' '2013-02-12'\n '2013-01-29' '2013-01-04' '2012-10-25' '2012-11-13' '2013-02-01'\n '2011-08-10' '2013-03-17' '2011-07-30' '2011-02-21' '2011-02-17'\n '2011-08-19' '2013-02-15' '2013-02-02' '2013-01-26' '2011-04-06'\n '2011-08-21' '2013-03-24' '2013-10-02' '2011-04-01' '2013-02-23'\n '2013-02-20' '2011-04-08' '2011-03-29' '2011-03-25' '2013-03-01'\n '2013-05-04' '2012-11-05' '2011-03-24' '2011-03-20' '2013-03-04'\n '2012-10-26' '2013-06-04' '2011-08-20' '2013-02-07' '2011-07-24'\n '2011-07-25' '2013-03-22' '2013-08-02' '2011-07-28' '2013-03-12'\n '2013-03-30' '2013-12-03' '2011-03-26' '2011-03-08' '2013-01-23'\n '2012-11-04' '2012-10-02' '2012-10-07' '2011-04-18' '2012-11-15'\n '2011-08-12' '2011-08-23' '2012-10-08' '2011-02-26' '2013-03-26'\n '2011-03-01' '2012-12-14' '2011-02-14' '2013-01-14' '2012-10-04'\n '2011-07-26' '2012-10-27' '2012-10-17' '2013-09-02' '2012-10-03'\n '2013-03-20' '2012-11-08' '2011-02-15' '2012-10-24' '2013-03-10'\n '2011-07-06' '2011-07-08' '2012-12-13' '2011-08-25' '2004-08-01'\n '2011-04-09' '2012-10-31' '2011-03-06' '2013-07-02' '2012-11-12'\n '2011-02-28' '2011-02-02' '2013-01-31' '2011-07-10' '2011-04-17'\n '2011-07-05' '2011-06-04' '2011-08-22' '2011-01-03' '2013-01-13'\n '2012-11-09' '2013-01-11' '2011-01-08' '2013-07-04' '2011-02-18'\n '2011-08-13' '2012-11-06' '2011-06-03' '2013-01-12' '2013-03-08'\n '2004-12-01' '2012-12-16' '2011-04-13' '2012-11-01' '2013-03-27'\n '2011-12-03' '2013-01-08' '2011-04-19' '2012-12-15' '2012-10-30'\n '2011-08-16' '2013-01-07' '2013-01-03' '2013-05-02' '2011-08-15'\n '2011-02-19' '2011-11-03' '2011-04-21' '2013-01-10' '2012-11-10'\n '2011-12-07' '2012-11-11' '2011-10-03' '2011-08-26' '2011-04-22'\n '2011-08-09' '2011-06-07' '2002-10-14' '2013-03-09' '2011-02-04'\n '2013-01-09' '2012-12-12' '2012-11-14' '2012-12-11' '2011-04-20'\n '2012-12-18' '2011-08-27' '2013-12-02' '2013-11-02' '2011-09-27'\n '2011-08-24' '2011-09-03' '2012-11-29' '2011-09-19' '2012-12-21'\n '2012-11-02' '2013-03-11' '2012-11-19' '2011-05-03' '2012-12-10'\n '2011-11-04' '2004-05-01' '2004-04-05' '2012-12-17' '2012-11-07'\n '2012-11-30' '2004-06-01' '2011-05-07' '2012-12-23' '2011-09-09'\n '2012-12-24' '2011-05-04' '2011-04-23' '2013-04-02' '2011-02-01'\n '2011-09-18' '2011-09-06' '2011-09-20' '2004-03-01' '2011-09-17'\n '2013-01-01' '2004-01-07' '2004-07-01' '2011-09-11' '2011-08-31'\n '2011-09-21' '2011-08-30' '2011-08-28' '2011-09-01' '2011-09-28'\n '2011-09-16' '2011-09-13' '2011-09-08' '2011-09-23' '2013-01-06'\n '2011-09-14' '2004-03-06' '2012-01-21' '2012-01-25' '2011-09-15'\n '2011-09-25' '2004-09-01' '2004-04-01' '2011-09-26' '2011-09-12'\n '2013-12-01']\n--------------------------------------------------\nbasin\n['Lake Nyasa' 'Lake Victoria' 'Pangani' 'Ruvuma / Southern Coast'\n 'Internal' 'Lake Tanganyika' 'Wami / Ruvu' 'Rufiji' 'Lake Rukwa']\n--------------------------------------------------\npermit\n[False True nan]\n--------------------------------------------------\nextraction_type_class\n['gravity' 'submersible' 'handpump' 'other' 'motorpump' 'wind-powered'\n 'rope pump']\n--------------------------------------------------\nmanagement\n['vwc' 'wug' 'other' 'private operator' 'water board' 'wua' 'company'\n 'water authority' 'parastatal' 'unknown' 'other - school' 'trust']\n--------------------------------------------------\npayment_type\n['annually' 'never pay' 'per bucket' 'unknown' 'on failure' 'other'\n 'monthly']\n--------------------------------------------------\nwater_quality\n['soft' 'salty' 'milky' 'unknown' 'fluoride' 'coloured' 'salty abandoned'\n 'fluoride abandoned']\n--------------------------------------------------\nquantity\n['enough' 'insufficient' 'dry' 'seasonal' 'unknown']\n--------------------------------------------------\nsource\n['spring' 'rainwater harvesting' 'dam' 'machine dbh' 'other'\n 'shallow well' 'river' 'hand dtw' 'lake' 'unknown']\n--------------------------------------------------\nwaterpoint_type\n['communal standpipe' 'communal standpipe multiple' 'hand pump' 'other'\n 'improved spring' 'cattle trough' 'dam']\n--------------------------------------------------\nstatus_group\n['functional' 'non functional' 'functional needs repair']\n--------------------------------------------------\n"
     ]
    }
   ],
   "source": [
    "for col in df_exp.select_dtypes('object'):\n",
    "    #print(f'{col :-<50} {df_exp[col].unique()}')\n",
    "    print(col)\n",
    "    print(df_exp[col].unique())\n",
    "    print(\"-\" * 50)"
   ]
  },
  {
   "source": [
    "date_recorded : This column will be used to calculate the age of the pump.\n",
    "For the first model, we won't take the features engeneering further"
   ],
   "cell_type": "markdown",
   "metadata": {}
  },
  {
   "source": [
    "## 3. Data pre-processing"
   ],
   "cell_type": "markdown",
   "metadata": {}
  },
  {
   "source": [
    "### a. building the data frame"
   ],
   "cell_type": "markdown",
   "metadata": {}
  },
  {
   "cell_type": "code",
   "execution_count": 20,
   "metadata": {},
   "outputs": [
    {
     "output_type": "execute_result",
     "data": {
      "text/plain": [
       "   gps_height  longitude   latitude        funder        lga        ward  \\\n",
       "0        1390  34.938093  -9.856322         Roman     Ludewa    Mundindi   \n",
       "1        1399  34.698766  -2.147466       Grumeti  Serengeti       Natta   \n",
       "2         686  37.460664  -3.821329  Lottery Club  Simanjiro     Ngorika   \n",
       "3         263  38.486161 -11.155298        Unicef   Nanyumbu    Nanyumbu   \n",
       "4           0  31.130847  -1.825359   Action In A    Karagwe  Nyakasimbi   \n",
       "\n",
       "  date_recorded                    basin  district_code  population permit  \\\n",
       "0    2011-03-14               Lake Nyasa              5         109  False   \n",
       "1    2013-03-06            Lake Victoria              2         280   True   \n",
       "2    2013-02-25                  Pangani              4         250   True   \n",
       "3    2013-01-28  Ruvuma / Southern Coast             63          58   True   \n",
       "4    2011-07-13            Lake Victoria              1           0   True   \n",
       "\n",
       "   construction_year extraction_type_class management payment_type  \\\n",
       "0               1999               gravity        vwc     annually   \n",
       "1               2010               gravity        wug    never pay   \n",
       "2               2009               gravity        vwc   per bucket   \n",
       "3               1986           submersible        vwc    never pay   \n",
       "4                  0               gravity      other    never pay   \n",
       "\n",
       "  water_quality      quantity                source  \\\n",
       "0          soft        enough                spring   \n",
       "1          soft  insufficient  rainwater harvesting   \n",
       "2          soft        enough                   dam   \n",
       "3          soft           dry           machine dbh   \n",
       "4          soft      seasonal  rainwater harvesting   \n",
       "\n",
       "               waterpoint_type    status_group  \n",
       "0           communal standpipe      functional  \n",
       "1           communal standpipe      functional  \n",
       "2  communal standpipe multiple      functional  \n",
       "3  communal standpipe multiple  non functional  \n",
       "4           communal standpipe      functional  "
      ],
      "text/html": "<div>\n<style scoped>\n    .dataframe tbody tr th:only-of-type {\n        vertical-align: middle;\n    }\n\n    .dataframe tbody tr th {\n        vertical-align: top;\n    }\n\n    .dataframe thead th {\n        text-align: right;\n    }\n</style>\n<table border=\"1\" class=\"dataframe\">\n  <thead>\n    <tr style=\"text-align: right;\">\n      <th></th>\n      <th>gps_height</th>\n      <th>longitude</th>\n      <th>latitude</th>\n      <th>funder</th>\n      <th>lga</th>\n      <th>ward</th>\n      <th>date_recorded</th>\n      <th>basin</th>\n      <th>district_code</th>\n      <th>population</th>\n      <th>permit</th>\n      <th>construction_year</th>\n      <th>extraction_type_class</th>\n      <th>management</th>\n      <th>payment_type</th>\n      <th>water_quality</th>\n      <th>quantity</th>\n      <th>source</th>\n      <th>waterpoint_type</th>\n      <th>status_group</th>\n    </tr>\n  </thead>\n  <tbody>\n    <tr>\n      <th>0</th>\n      <td>1390</td>\n      <td>34.938093</td>\n      <td>-9.856322</td>\n      <td>Roman</td>\n      <td>Ludewa</td>\n      <td>Mundindi</td>\n      <td>2011-03-14</td>\n      <td>Lake Nyasa</td>\n      <td>5</td>\n      <td>109</td>\n      <td>False</td>\n      <td>1999</td>\n      <td>gravity</td>\n      <td>vwc</td>\n      <td>annually</td>\n      <td>soft</td>\n      <td>enough</td>\n      <td>spring</td>\n      <td>communal standpipe</td>\n      <td>functional</td>\n    </tr>\n    <tr>\n      <th>1</th>\n      <td>1399</td>\n      <td>34.698766</td>\n      <td>-2.147466</td>\n      <td>Grumeti</td>\n      <td>Serengeti</td>\n      <td>Natta</td>\n      <td>2013-03-06</td>\n      <td>Lake Victoria</td>\n      <td>2</td>\n      <td>280</td>\n      <td>True</td>\n      <td>2010</td>\n      <td>gravity</td>\n      <td>wug</td>\n      <td>never pay</td>\n      <td>soft</td>\n      <td>insufficient</td>\n      <td>rainwater harvesting</td>\n      <td>communal standpipe</td>\n      <td>functional</td>\n    </tr>\n    <tr>\n      <th>2</th>\n      <td>686</td>\n      <td>37.460664</td>\n      <td>-3.821329</td>\n      <td>Lottery Club</td>\n      <td>Simanjiro</td>\n      <td>Ngorika</td>\n      <td>2013-02-25</td>\n      <td>Pangani</td>\n      <td>4</td>\n      <td>250</td>\n      <td>True</td>\n      <td>2009</td>\n      <td>gravity</td>\n      <td>vwc</td>\n      <td>per bucket</td>\n      <td>soft</td>\n      <td>enough</td>\n      <td>dam</td>\n      <td>communal standpipe multiple</td>\n      <td>functional</td>\n    </tr>\n    <tr>\n      <th>3</th>\n      <td>263</td>\n      <td>38.486161</td>\n      <td>-11.155298</td>\n      <td>Unicef</td>\n      <td>Nanyumbu</td>\n      <td>Nanyumbu</td>\n      <td>2013-01-28</td>\n      <td>Ruvuma / Southern Coast</td>\n      <td>63</td>\n      <td>58</td>\n      <td>True</td>\n      <td>1986</td>\n      <td>submersible</td>\n      <td>vwc</td>\n      <td>never pay</td>\n      <td>soft</td>\n      <td>dry</td>\n      <td>machine dbh</td>\n      <td>communal standpipe multiple</td>\n      <td>non functional</td>\n    </tr>\n    <tr>\n      <th>4</th>\n      <td>0</td>\n      <td>31.130847</td>\n      <td>-1.825359</td>\n      <td>Action In A</td>\n      <td>Karagwe</td>\n      <td>Nyakasimbi</td>\n      <td>2011-07-13</td>\n      <td>Lake Victoria</td>\n      <td>1</td>\n      <td>0</td>\n      <td>True</td>\n      <td>0</td>\n      <td>gravity</td>\n      <td>other</td>\n      <td>never pay</td>\n      <td>soft</td>\n      <td>seasonal</td>\n      <td>rainwater harvesting</td>\n      <td>communal standpipe</td>\n      <td>functional</td>\n    </tr>\n  </tbody>\n</table>\n</div>"
     },
     "metadata": {},
     "execution_count": 20
    }
   ],
   "source": [
    "#features.remove(\"date_recorded\")\n",
    "#features.remove(\"construction_year\")\n",
    "df_pp = data.copy()\n",
    "df_pp = df_pp[features]\n",
    "df_pp.head()"
   ]
  },
  {
   "source": [
    "### b. Train-test - data cleaning - data encoding"
   ],
   "cell_type": "markdown",
   "metadata": {}
  },
  {
   "cell_type": "code",
   "execution_count": 21,
   "metadata": {},
   "outputs": [],
   "source": [
    "from sklearn.model_selection import train_test_split"
   ]
  },
  {
   "cell_type": "code",
   "execution_count": 22,
   "metadata": {},
   "outputs": [],
   "source": [
    "train_set, test_set = train_test_split(df_pp, test_size=.2, random_state=14)"
   ]
  },
  {
   "cell_type": "code",
   "execution_count": 23,
   "metadata": {},
   "outputs": [
    {
     "output_type": "execute_result",
     "data": {
      "text/plain": [
       "functional                 0.542088\n",
       "non functional             0.384196\n",
       "functional needs repair    0.073716\n",
       "Name: status_group, dtype: float64"
      ]
     },
     "metadata": {},
     "execution_count": 23
    }
   ],
   "source": [
    "train_set[\"status_group\"].value_counts(normalize=True)"
   ]
  },
  {
   "cell_type": "code",
   "execution_count": 24,
   "metadata": {},
   "outputs": [
    {
     "output_type": "execute_result",
     "data": {
      "text/plain": [
       "functional                 6499\n",
       "non functional             4567\n",
       "functional needs repair     814\n",
       "Name: status_group, dtype: int64"
      ]
     },
     "metadata": {},
     "execution_count": 24
    }
   ],
   "source": [
    "test_set[\"status_group\"].value_counts()"
   ]
  },
  {
   "cell_type": "code",
   "execution_count": 25,
   "metadata": {},
   "outputs": [],
   "source": [
    "# Custom transformers to use in the processing pipeline\n",
    "\n",
    "def recorded_year_extractor(X):\n",
    "    \"\"\"Extract recorded year\n",
    "\n",
    "    Usage\n",
    "    ------\n",
    "\n",
    "    df = recorded_year_extractor(df)\n",
    "    \"\"\"\n",
    "\n",
    "    df = pd.DataFrame(X)\n",
    "    #df[\"recorded_year\"] = pd.to_datetime(df[\"date_recorded\"]).dt.year\n",
    "    df[\"date_recorded\"] =  df[\"date_recorded\"].apply(lambda x : pd.to_datetime(x).year)\n",
    "\n",
    "    return pd.DataFrame(df)\n",
    "def pump_age_calculator(X):\n",
    "    \"\"\"calculate the age the pump \n",
    "\n",
    "    Usage\n",
    "    ------\n",
    "\n",
    "    train = pump_age_calculator(train)\n",
    "    \"\"\"\n",
    "\n",
    "    df = pd.DataFrame(X)\n",
    "\n",
    "    return pd.DataFrame(df.iloc[:,0] - df.iloc[:,1])\n",
    "\n",
    "def numeric_missing_indicator(X):\n",
    "    \"\"\"Replace all the missing value (negaive or null) by -1\n",
    "\n",
    "    Usage\n",
    "    ------\n",
    "\n",
    "    train = population_missing_indicator(train)\n",
    "    \"\"\" \n",
    "    X = np.where(X <= 0, -1, X)\n",
    "    return X\n",
    "\n",
    "def permit_missing_indicator(X):\n",
    "    \"\"\"Replace all the missing value (negaive or null) by \"Unknown\"\n",
    "\n",
    "    Usage\n",
    "    ------\n",
    "\n",
    "    train = permit_missing_indicator(train)\n",
    "    \"\"\" \n",
    "\n",
    "    df = pd.DataFrame(X)\n",
    "    df[\"permit\"] = df[\"permit\"].apply(lambda x : 1 if x == True else ( 0 if x == False else 2))\n",
    "    return df\n"
   ]
  },
  {
   "cell_type": "code",
   "execution_count": 26,
   "metadata": {},
   "outputs": [],
   "source": [
    "from sklearn.preprocessing import FunctionTransformer, LabelEncoder, OneHotEncoder,LabelBinarizer\n",
    "from sklearn.pipeline import make_pipeline, make_union\n",
    "from sklearn.compose import make_column_transformer\n",
    "from sklearn.impute import SimpleImputer"
   ]
  },
  {
   "cell_type": "code",
   "execution_count": 27,
   "metadata": {},
   "outputs": [
    {
     "output_type": "execute_result",
     "data": {
      "text/plain": [
       "['funder',\n",
       " 'lga',\n",
       " 'ward',\n",
       " 'basin',\n",
       " 'permit',\n",
       " 'extraction_type_class',\n",
       " 'management',\n",
       " 'payment_type',\n",
       " 'water_quality',\n",
       " 'quantity',\n",
       " 'source',\n",
       " 'waterpoint_type',\n",
       " 'district_code']"
      ]
     },
     "metadata": {},
     "execution_count": 27
    }
   ],
   "source": [
    "cat_features = df_pp.select_dtypes('object').columns.tolist()\n",
    "cat_features.remove(\"status_group\")\n",
    "cat_features.remove(\"date_recorded\")\n",
    "cat_features.append(\"district_code\") # It is a categorical data represented by numbers\n",
    "cat_features"
   ]
  },
  {
   "cell_type": "code",
   "execution_count": 28,
   "metadata": {},
   "outputs": [],
   "source": [
    "# gps_height pipeline\n",
    "pipeline_gps_height = make_pipeline(FunctionTransformer(numeric_missing_indicator),\n",
    "                                    SimpleImputer(missing_values=-1, strategy='median')\n",
    "                                    )\n",
    "transformer_gps_height = make_column_transformer((pipeline_gps_height,[\"gps_height\"]))"
   ]
  },
  {
   "cell_type": "code",
   "execution_count": 29,
   "metadata": {},
   "outputs": [],
   "source": [
    "# longitude & latitude pipeline\n",
    "transformer_longitude_latitude = make_column_transformer((\"passthrough\",[\"longitude\",\"latitude\"]))"
   ]
  },
  {
   "cell_type": "code",
   "execution_count": 30,
   "metadata": {},
   "outputs": [],
   "source": [
    "# pump age pipeline\n",
    "pipeline_pump_age_calculator = make_pipeline(FunctionTransformer(recorded_year_extractor),\n",
    "                                             FunctionTransformer(numeric_missing_indicator),\n",
    "                                             SimpleImputer(missing_values=-1, strategy='median'),\n",
    "                                             FunctionTransformer(pump_age_calculator)\n",
    "                                             )\n",
    "transformer_pump_age_calculator = make_column_transformer((pipeline_pump_age_calculator,[\"date_recorded\",\"construction_year\"]))"
   ]
  },
  {
   "cell_type": "code",
   "execution_count": 31,
   "metadata": {},
   "outputs": [],
   "source": [
    "# population pipeline\n",
    "pipeline_population = make_pipeline(FunctionTransformer(numeric_missing_indicator),\n",
    "                                    SimpleImputer(missing_values=-1, strategy='median')\n",
    "                                    )\n",
    "transformer_population = make_column_transformer((pipeline_population,[\"population\"]))"
   ]
  },
  {
   "cell_type": "code",
   "execution_count": 32,
   "metadata": {},
   "outputs": [],
   "source": [
    "# permit missing indcator\n",
    "pipeline_permit_missing_indicator = make_pipeline(FunctionTransformer(permit_missing_indicator),\n",
    "                                                  OneHotEncoder(handle_unknown='ignore', sparse=False))\n",
    "transformer_permit_missing_indicator = make_column_transformer((pipeline_permit_missing_indicator, [\"permit\"]))"
   ]
  },
  {
   "cell_type": "code",
   "execution_count": 33,
   "metadata": {},
   "outputs": [],
   "source": [
    "# Categorical feature pipeline\n",
    "# categories=cat_features, \n",
    "pipeline_one_hot_encoder = make_pipeline(SimpleImputer(missing_values=np.nan, strategy='most_frequent'), OneHotEncoder(handle_unknown='ignore', sparse=False))\n",
    "transformer_one_hot_encoder = make_column_transformer((pipeline_one_hot_encoder, cat_features))"
   ]
  },
  {
   "cell_type": "code",
   "execution_count": 34,
   "metadata": {},
   "outputs": [],
   "source": [
    "features_union = make_union(transformer_gps_height,\n",
    "                            transformer_longitude_latitude,\n",
    "                            transformer_pump_age_calculator,\n",
    "                            transformer_population,\n",
    "                            transformer_permit_missing_indicator,\n",
    "                            transformer_one_hot_encoder\n",
    ")\n",
    "#union_model.fit_transform(train_set.drop(\"status_group\", axis=1))"
   ]
  },
  {
   "cell_type": "code",
   "execution_count": 35,
   "metadata": {},
   "outputs": [],
   "source": [
    "# Resample\n",
    "from sklearn.utils import resample\n",
    "def down_sample(df):\n",
    "    df_f = df[df[\"status_group\"] == \"functional\"]\n",
    "    df_nf = df[df[\"status_group\"] == \"non functional\"]\n",
    "    df_r = df[df[\"status_group\"] == \"functional needs repair\"]\n",
    "    size = df_r.shape[0]\n",
    "    df_f_down = resample(df_f, replace=False, n_samples=size, random_state=14)\n",
    "    df_nf_down = resample(df_nf, replace=False, n_samples=size, random_state=14)\n",
    "\n",
    "    df_downsampled = pd.concat([df_f_down, df_nf_down, df_r])\n",
    "\n",
    "    return df_downsampled\n"
   ]
  },
  {
   "source": [
    "I've tried the downsample technique but it doesn't work well for this project, and the final classifier I choosed doesn't need downsampling"
   ],
   "cell_type": "markdown",
   "metadata": {}
  },
  {
   "cell_type": "code",
   "execution_count": 36,
   "metadata": {},
   "outputs": [],
   "source": [
    "def get_train_test():\n",
    "    #df = down_sample(train_set)\n",
    "    df = train_set\n",
    "    X_train = df.drop(\"status_group\", axis=1)\n",
    "    y_train = df[\"status_group\"]\n",
    "    X_test = test_set.drop(\"status_group\", axis=1)\n",
    "    y_test = test_set[\"status_group\"]\n",
    "    \n",
    "    return X_train, y_train, X_test, y_test"
   ]
  },
  {
   "cell_type": "code",
   "execution_count": 37,
   "metadata": {},
   "outputs": [
    {
     "output_type": "stream",
     "name": "stdout",
     "text": [
      "(47520, 19)\n(11880, 19)\n"
     ]
    }
   ],
   "source": [
    "X_train, y_train, X_test, y_test = get_train_test()\n",
    "print(X_train.shape)\n",
    "print(X_test.shape)"
   ]
  },
  {
   "cell_type": "code",
   "execution_count": 38,
   "metadata": {},
   "outputs": [],
   "source": [
    "# The target encoder\n",
    "y_pre_processor = LabelEncoder()\n",
    "y_train = y_pre_processor.fit_transform(y_train)\n",
    "y_test = y_pre_processor.transform(y_test)"
   ]
  },
  {
   "source": [
    "## 4. Modelling\n",
    "\n",
    "After the data processing pipeling, it's time to start modelling"
   ],
   "cell_type": "markdown",
   "metadata": {}
  },
  {
   "cell_type": "code",
   "execution_count": 39,
   "metadata": {},
   "outputs": [],
   "source": [
    "from sklearn.tree import DecisionTreeClassifier\n",
    "from sklearn.svm import SVC, LinearSVC\n",
    "from sklearn.neighbors import KNeighborsClassifier\n",
    "from sklearn.ensemble import RandomForestClassifier, AdaBoostClassifier\n",
    "from sklearn.feature_selection import SelectKBest, f_classif, SelectFromModel\n",
    "from sklearn.model_selection import learning_curve, RandomizedSearchCV, GridSearchCV\n",
    "from sklearn.preprocessing import PolynomialFeatures, StandardScaler, MinMaxScaler\n",
    "from sklearn.metrics import confusion_matrix, classification_report\n",
    "from sklearn.linear_model import SGDClassifier"
   ]
  },
  {
   "cell_type": "code",
   "execution_count": 40,
   "metadata": {},
   "outputs": [],
   "source": [
    "# a pipeline for preprocessing\n",
    "#X_pre_processor = make_pipeline(features_union, MinMaxScaler(), SelectKBest(f_classif, k=700))\n",
    "X_pre_processor = make_pipeline(features_union, MinMaxScaler())\n"
   ]
  },
  {
   "source": [
    "Shape = (47520, 4019)"
   ],
   "cell_type": "markdown",
   "metadata": {}
  },
  {
   "cell_type": "code",
   "execution_count": 41,
   "metadata": {},
   "outputs": [],
   "source": [
    "# models\n",
    "random_forest = make_pipeline(X_pre_processor, RandomForestClassifier(min_samples_split=15, min_samples_leaf=1, criterion=\"gini\", class_weight=None, random_state=14))\n",
    "#svm = make_pipeline(X_pre_processor, PolynomialFeatures(degree=3), LinearSVC(C=10, loss=\"hinge\", random_state=14, max_iter=1000))\n",
    "svm = make_pipeline(X_pre_processor, SVC(kernel=\"poly\", degree=10, coef0=1, C=15, class_weight= \"balanced\", random_state=14))\n",
    "knn = make_pipeline(X_pre_processor, KNeighborsClassifier(n_neighbors=20))\n",
    "sgc = make_pipeline(X_pre_processor, SGDClassifier(random_state=14))\n"
   ]
  },
  {
   "cell_type": "code",
   "execution_count": 42,
   "metadata": {},
   "outputs": [],
   "source": [
    "models_dict = { #\"svm\": svm,\n",
    "                \"RandomForestClassifier\" : random_forest\n",
    "                #\"SGDClassifier\": sgc, \n",
    "               # \"KNeighborsClassifier\" : knn\n",
    "                }"
   ]
  },
  {
   "source": [
    "## 5. Evaluation process"
   ],
   "cell_type": "markdown",
   "metadata": {}
  },
  {
   "cell_type": "code",
   "execution_count": 43,
   "metadata": {},
   "outputs": [],
   "source": [
    "def evaluate_model(model):\n",
    "\n",
    "    model.fit(X_train, y_train)\n",
    "    y_pred = model.predict(X_test)\n",
    "\n",
    "    print(confusion_matrix(y_test, y_pred))\n",
    "    print(classification_report(y_test, y_pred))\n",
    "\n",
    "    #N, train_score, val_score = learning_curve(model, X_train, y_train, cv=4, train_sizes=np.linspace(0.1,1,10))\n",
    "\n",
    "    #plt.figure(figsize=(12,8))\n",
    "    #plt.plot(N, train_score.mean(axis=1), label=\"train score\")\n",
    "    #plt.plot(N, val_score.mean(axis=1), label=\"validation score\")\n",
    "    #plt.legend()"
   ]
  },
  {
   "cell_type": "code",
   "execution_count": 44,
   "metadata": {
    "tags": []
   },
   "outputs": [
    {
     "output_type": "stream",
     "name": "stdout",
     "text": [
      "RandomForestClassifier\n----------------------------------------------------------------------------------------------------\n"
     ]
    }
   ],
   "source": [
    "# The evaluation process\n",
    "for name, model in models_dict.items():\n",
    "    print(name)\n",
    "    #evaluate_model(model)\n",
    "    print(\"-\" * 100)"
   ]
  },
  {
   "source": [
    "```\n",
    "RandomForestClassifier *** all *** features\n",
    "[[5919   84  496]\n",
    " [ 437  245  132]\n",
    " [ 949   43 3575]]\n",
    "              precision    recall  f1-score   support\n",
    "\n",
    "           0       0.81      0.91      0.86      6499\n",
    "           1       0.66      0.30      0.41       814\n",
    "           2       0.85      0.78      0.82      4567\n",
    "\n",
    "    accuracy                           0.82     11880\n",
    "   macro avg       0.77      0.66      0.70     11880\n",
    "weighted avg       0.82      0.82      0.81     11880\n",
    "\n",
    "```"
   ],
   "cell_type": "markdown",
   "metadata": {}
  },
  {
   "source": [
    "## 5. Optimization\n",
    "Let's try to optimize the choosen model (randomforest)"
   ],
   "cell_type": "markdown",
   "metadata": {}
  },
  {
   "cell_type": "code",
   "execution_count": 45,
   "metadata": {},
   "outputs": [],
   "source": [
    "# Best features\n",
    "k_best_features = list(range(100,1510,100)) + list(range(2019,3800,500))\n",
    "k_best_features.append(\"all\")\n",
    "\n",
    "# Number of trees in random forest\n",
    "n_estimators = list(range(100,301, 50))\n",
    "\n",
    "#criterion\n",
    "criterion = [\"gini\", \"entropy\"]\n",
    "\n",
    "# Number of features to consider at every split\n",
    "max_features = ['auto', 'sqrt', \"log2\"]\n",
    "\n",
    "# Maximum number of levels in tree\n",
    "max_depth = list(range(10, 1001, 10))\n",
    "max_depth.append(None)\n",
    "\n",
    "# Minimum number of samples required to split a node\n",
    "min_samples_split = [5, 10, 15, 20, 25]\n",
    "\n",
    "# Minimum number of samples required at each leaf node\n",
    "min_samples_leaf = [1, 3, 5, 7]\n",
    "\n",
    "# Method of selecting samples for training each tree\n",
    "bootstrap = [True, False]\n",
    "\n",
    "class_weight = [\"balanced\", \"balanced_subsample\", None]\n",
    "\n",
    "# Create the random grid\n",
    "param_distributions = { #'pipeline__selectkbest__k': k_best_features,\n",
    "                        'randomforestclassifier__n_estimators': n_estimators,\n",
    "                       # 'randomforestclassifier__max_features': max_features,\n",
    "                       # 'randomforestclassifier__max_depth': max_depth,\n",
    "                        'randomforestclassifier__min_samples_split': min_samples_split,\n",
    "                        'randomforestclassifier__min_samples_leaf': min_samples_leaf,\n",
    "                        'randomforestclassifier__criterion':criterion,\n",
    "                        'randomforestclassifier__class_weight':class_weight\n",
    "                       # 'randomforestclassifier__bootstrap': bootstrap\n",
    "}\n",
    "\n",
    "#print(param_distributions)"
   ]
  },
  {
   "cell_type": "code",
   "execution_count": 46,
   "metadata": {
    "tags": []
   },
   "outputs": [],
   "source": [
    "#gridSCV = RandomizedSearchCV(random_forest, param_distributions, cv=4, n_iter=30)\n",
    "#gridSCV.fit(X_train, y_train)\n",
    "#print(gridSCV.best_params_)\n",
    "#y_pred = gridSCV.predict(X_test)\n",
    "#print(confusion_matrix(y_test, y_pred))\n",
    "#print(classification_report(y_test, y_pred))"
   ]
  },
  {
   "source": [
    "```\n",
    "{'randomforestclassifier__n_estimators': 100, 'randomforestclassifier__min_samples_split': 15, 'randomforestclassifier__min_samples_leaf': 1, 'randomforestclassifier__criterion': 'gini', 'randomforestclassifier__class_weight': None, 'pipeline__selectkbest__k': 1300}\n",
    "[[5919   79  501]\n",
    " [ 441  243  130]\n",
    " [ 990   42 3535]]\n",
    "              precision    recall  f1-score   support\n",
    "\n",
    "           0       0.81      0.91      0.85      6499\n",
    "           1       0.67      0.30      0.41       814\n",
    "           2       0.85      0.77      0.81      4567\n",
    "\n",
    "    accuracy                           0.82     11880\n",
    "   macro avg       0.77      0.66      0.69     11880\n",
    "weighted avg       0.81      0.82      0.81     11880\n",
    "\n",
    "```"
   ],
   "cell_type": "markdown",
   "metadata": {}
  },
  {
   "cell_type": "code",
   "execution_count": 47,
   "metadata": {},
   "outputs": [],
   "source": [
    "#param_distributions = { 'pipeline__selectkbest__k': list(range(3500,4019,100))}\n",
    "#gridSCV = GridSearchCV(random_forest, param_distributions, cv=5)\n",
    "#gridSCV.fit(X_train, y_train)\n",
    "#print(gridSCV.best_params_)\n",
    "#y_pred = gridSCV.predict(X_test)\n",
    "#print(confusion_matrix(y_test, y_pred))\n",
    "#print(classification_report(y_test, y_pred))"
   ]
  },
  {
   "source": [
    "# 6. Final model"
   ],
   "cell_type": "markdown",
   "metadata": {}
  },
  {
   "cell_type": "code",
   "execution_count": 48,
   "metadata": {},
   "outputs": [
    {
     "output_type": "stream",
     "name": "stdout",
     "text": [
      "confusion_matrix\n[[5919   84  496]\n [ 437  245  132]\n [ 949   43 3575]]\n--------------------------------------------------\nclassification_report\n              precision    recall  f1-score   support\n\n           0       0.81      0.91      0.86      6499\n           1       0.66      0.30      0.41       814\n           2       0.85      0.78      0.82      4567\n\n    accuracy                           0.82     11880\n   macro avg       0.77      0.66      0.70     11880\nweighted avg       0.82      0.82      0.81     11880\n\n"
     ]
    }
   ],
   "source": [
    "    X_pre_processor = make_pipeline(features_union, MinMaxScaler())\n",
    "    rdf = RandomForestClassifier(n_estimators=100, min_samples_split=15, min_samples_leaf=1, criterion=\"gini\", class_weight=None, random_state=14)\n",
    "    final_model = make_pipeline(X_pre_processor, rdf)\n",
    "\n",
    "    final_model.fit(X_train, y_train)\n",
    "    y_pred = final_model.predict(X_test)\n",
    "\n",
    "    print(\"confusion_matrix\")\n",
    "    print(confusion_matrix(y_test, y_pred))\n",
    "    print(\"-\" * 50)\n",
    "    print(\"classification_report\")\n",
    "    print(classification_report(y_test, y_pred))\n",
    "\n",
    "    #N, train_score, val_score = learning_curve(model, X_train, y_train, cv=4, train_sizes=np.linspace(0.1,1,10))\n",
    "    #plt.figure(figsize=(12,8))\n",
    "    #plt.plot(N, train_score.mean(axis=1), label=\"train score\")\n",
    "    #plt.plot(N, val_score.mean(axis=1), label=\"validation score\")\n",
    "    #plt.legend()"
   ]
  },
  {
   "source": [
    "# 7. Submission"
   ],
   "cell_type": "markdown",
   "metadata": {}
  },
  {
   "cell_type": "code",
   "execution_count": 49,
   "metadata": {},
   "outputs": [],
   "source": [
    "def save_submission_file(estimator, features, output_filename):  \n",
    "    predictions = estimator.predict(holdout[features])\n",
    "    submission = pd.DataFrame(holdout[\"id\"])\n",
    "    submission[\"status_group\"] = pd.Series(y_pre_processor.inverse_transform(predictions))\n",
    "    submission.to_csv(output_filename, index=False)\n",
    "    \n",
    "#save_submission_file(final_model, X_train.columns, \"pump_submission.csv\")"
   ]
  },
  {
   "source": [
    "# 8. Conclusion\n",
    "\n",
    "The metric used in this challenge is the classification rate and I got 0.8136 (81.36% of accuracy)"
   ],
   "cell_type": "markdown",
   "metadata": {}
  },
  {
   "cell_type": "code",
   "execution_count": null,
   "metadata": {},
   "outputs": [],
   "source": []
  }
 ]
}